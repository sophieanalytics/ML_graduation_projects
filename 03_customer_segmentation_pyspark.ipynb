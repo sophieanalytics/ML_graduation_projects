{
 "cells": [
  {
   "cell_type": "code",
   "execution_count": 50,
   "metadata": {},
   "outputs": [],
   "source": [
    "import findspark\n",
    "findspark.init()\n",
    "\n",
    "import pyspark\n",
    "\n",
    "from pyspark.sql import SparkSession\n",
    "\n",
    "spark = SparkSession.builder.appName(\"Clustering\").getOrCreate()"
   ]
  },
  {
   "cell_type": "code",
   "execution_count": 51,
   "metadata": {},
   "outputs": [],
   "source": [
    "from pyspark.sql.functions import col, when\n",
    "from pyspark.ml.clustering import KMeans\n",
    "from pyspark.ml.evaluation import ClusteringEvaluator\n",
    "import pandas as pd\n",
    "import matplotlib.pyplot as plt\n",
    "import seaborn as sns\n",
    "import squarify"
   ]
  },
  {
   "cell_type": "code",
   "execution_count": 52,
   "metadata": {},
   "outputs": [
    {
     "name": "stdout",
     "output_type": "stream",
     "text": [
      "root\n",
      " |-- Member_number: integer (nullable = true)\n",
      " |-- Recency: integer (nullable = true)\n",
      " |-- Frequency: integer (nullable = true)\n",
      " |-- Monetary: double (nullable = true)\n",
      " |-- R: integer (nullable = true)\n",
      " |-- F: integer (nullable = true)\n",
      " |-- M: integer (nullable = true)\n",
      " |-- RFM_Segment: integer (nullable = true)\n",
      " |-- RFM_Score: integer (nullable = true)\n",
      "\n"
     ]
    }
   ],
   "source": [
    "data = spark.read.csv(\"df_RFM.csv\", inferSchema=True, header=True).drop(\"_c0\")\n",
    "data.printSchema()"
   ]
  },
  {
   "cell_type": "code",
   "execution_count": 53,
   "metadata": {},
   "outputs": [
    {
     "name": "stdout",
     "output_type": "stream",
     "text": [
      "+-------------+-------+---------+--------+---+---+---+-----------+---------+\n",
      "|Member_number|Recency|Frequency|Monetary|  R|  F|  M|RFM_Segment|RFM_Score|\n",
      "+-------------+-------+---------+--------+---+---+---+-----------+---------+\n",
      "|         2193|     91|       27|  361.45|  3|  4|  4|        344|       11|\n",
      "|         1793|     26|       25|   345.1|  4|  4|  4|        444|       12|\n",
      "|         3289|      4|       29|  334.15|  4|  4|  4|        444|       12|\n",
      "|         2433|      3|       30|  316.81|  4|  4|  4|        444|       12|\n",
      "|         2743|    142|       17|  312.46|  2|  4|  4|        244|       10|\n",
      "|         2811|    310|       20|  305.72|  1|  4|  4|        144|        9|\n",
      "|         2990|    140|       24|  303.61|  3|  4|  4|        344|       11|\n",
      "|         3872|     37|       30|  301.33|  4|  4|  4|        444|       12|\n",
      "|         4753|     52|       23|   301.1|  4|  4|  4|        444|       12|\n",
      "|         2993|    239|       15|  296.96|  2|  4|  4|        244|       10|\n",
      "+-------------+-------+---------+--------+---+---+---+-----------+---------+\n",
      "only showing top 10 rows\n",
      "\n"
     ]
    }
   ],
   "source": [
    "data.show(10)"
   ]
  },
  {
   "cell_type": "code",
   "execution_count": 54,
   "metadata": {},
   "outputs": [
    {
     "data": {
      "text/plain": [
       "3898"
      ]
     },
     "execution_count": 54,
     "metadata": {},
     "output_type": "execute_result"
    }
   ],
   "source": [
    "data.count()"
   ]
  },
  {
   "cell_type": "code",
   "execution_count": 55,
   "metadata": {},
   "outputs": [
    {
     "name": "stdout",
     "output_type": "stream",
     "text": [
      "+-------+------------------+------------------+-----------------+-----------------+-----------------+------------------+------------------+----------------+------------------+\n",
      "|summary|     Member_number|           Recency|        Frequency|         Monetary|                R|                 F|                 M|     RFM_Segment|         RFM_Score|\n",
      "+-------+------------------+------------------+-----------------+-----------------+-----------------+------------------+------------------+----------------+------------------+\n",
      "|  count|              3898|              3898|             3898|             3898|             3898|              3898|              3898|            3898|              3898|\n",
      "|   mean|3002.9599794766546| 187.7013853258081|9.882247306310928|84.89733196511037|              2.5|               2.5|               2.5|           277.5|               7.5|\n",
      "| stddev| 1155.806001188376|159.91268820914237|5.269804259109583|55.34799494036805|1.118406891454291|1.1184068914542906|1.1184068914542882|117.328874508498|2.7337829856022773|\n",
      "|    min|              1000|                 0|                1|              1.1|                1|                 1|                 1|             111|                 3|\n",
      "|    max|              5000|               727|               36|           361.45|                4|                 4|                 4|             444|                12|\n",
      "+-------+------------------+------------------+-----------------+-----------------+-----------------+------------------+------------------+----------------+------------------+\n",
      "\n"
     ]
    }
   ],
   "source": [
    "data.describe().show()"
   ]
  },
  {
   "cell_type": "code",
   "execution_count": 56,
   "metadata": {},
   "outputs": [
    {
     "data": {
      "text/plain": [
       "['Member_number',\n",
       " 'Recency',\n",
       " 'Frequency',\n",
       " 'Monetary',\n",
       " 'R',\n",
       " 'F',\n",
       " 'M',\n",
       " 'RFM_Segment',\n",
       " 'RFM_Score']"
      ]
     },
     "execution_count": 56,
     "metadata": {},
     "output_type": "execute_result"
    }
   ],
   "source": [
    "data.columns"
   ]
  },
  {
   "cell_type": "code",
   "execution_count": 57,
   "metadata": {},
   "outputs": [
    {
     "name": "stdout",
     "output_type": "stream",
     "text": [
      "+---------+\n",
      "|RFM_Score|\n",
      "+---------+\n",
      "|        3|\n",
      "|        4|\n",
      "|        5|\n",
      "|        6|\n",
      "|        7|\n",
      "|        8|\n",
      "|        9|\n",
      "|       10|\n",
      "|       11|\n",
      "|       12|\n",
      "+---------+\n",
      "\n"
     ]
    }
   ],
   "source": [
    "data.select('RFM_Score').distinct().orderBy('RFM_Score').show()"
   ]
  },
  {
   "cell_type": "code",
   "execution_count": 58,
   "metadata": {},
   "outputs": [],
   "source": [
    "def rfm_level7(df):\n",
    "    # Check for special 'STARS' and 'NEW' conditions first\n",
    "    if df.RFM_Score == 12:\n",
    "        return 'STARS'\n",
    "    elif df.R == 4 and df.F == 1 and df.M == 1:\n",
    "        return 'NEW'\n",
    "    # Then check for other conditions\n",
    "    elif df.M == 4:\n",
    "        return 'BIG SPENDER'\n",
    "    elif df.F == 4:\n",
    "        return 'LOYAL'\n",
    "    elif df.R == 4:\n",
    "        return 'ACTIVE'\n",
    "    elif df.R == 1:\n",
    "        return 'LOST'\n",
    "    elif df.M == 1:\n",
    "        return 'LIGHT'\n",
    "    else:\n",
    "        return 'REGULARS'\n",
    "\n",
    "def rfm_level6(df):\n",
    "    # Best customers with highest RFM score\n",
    "    if df.RFM_Score >= 11:\n",
    "        return 'CHAMPIONS'\n",
    "    # Loyal customers with high frequency\n",
    "    elif (df.R >= 3) and (df.F >= 3) and (df.M >= 3):\n",
    "        return 'LOYAL'\n",
    "    # Recent customers with good potential\n",
    "    elif df.R >= 3 and (df.F >= 2 or df.M >= 2):\n",
    "        return 'ACTIVE'\n",
    "    # High value but not recent\n",
    "    elif (df.M >= 3):\n",
    "        return 'BIG_SPENDER'\n",
    "    # Not recent but previously active\n",
    "    elif (df.F >= 2):\n",
    "        return 'INACTIVE'\n",
    "    # Low value and inactive customers\n",
    "    else:\n",
    "        return 'LOST'\n",
    "\n",
    "def rfm_level5(df):\n",
    "    # Check for high value customers\n",
    "    if df.RFM_Score >= 11:\n",
    "        return 'VIP'\n",
    "    # Active and loyal customers\n",
    "    elif (df.R >= 3) and (df.F >= 3):\n",
    "        return 'LOYAL'\n",
    "    # Recent customers but not frequent\n",
    "    elif df.R >= 3:\n",
    "        return 'ACTIVE'\n",
    "    # Not recent but high value/frequency\n",
    "    elif (df.F >= 3) or (df.M >= 3):\n",
    "        return 'POTENTIAL'\n",
    "    # Low value and inactive customers\n",
    "    else:\n",
    "        return 'LOST'\n"
   ]
  },
  {
   "cell_type": "code",
   "execution_count": 59,
   "metadata": {},
   "outputs": [
    {
     "name": "stdout",
     "output_type": "stream",
     "text": [
      "+-------------+-------+---------+--------+---+---+---+-----------+---------+---------+\n",
      "|Member_number|Recency|Frequency|Monetary|  R|  F|  M|RFM_Segment|RFM_Score|RFM_Level|\n",
      "+-------------+-------+---------+--------+---+---+---+-----------+---------+---------+\n",
      "|         2193|     91|       27|  361.45|  3|  4|  4|        344|       11|      VIP|\n",
      "|         1793|     26|       25|   345.1|  4|  4|  4|        444|       12|      VIP|\n",
      "|         3289|      4|       29|  334.15|  4|  4|  4|        444|       12|      VIP|\n",
      "|         2433|      3|       30|  316.81|  4|  4|  4|        444|       12|      VIP|\n",
      "|         2743|    142|       17|  312.46|  2|  4|  4|        244|       10|POTENTIAL|\n",
      "+-------------+-------+---------+--------+---+---+---+-----------+---------+---------+\n",
      "only showing top 5 rows\n",
      "\n"
     ]
    }
   ],
   "source": [
    "from pyspark.sql.functions import udf, struct\n",
    "from pyspark.sql.types import StringType\n",
    "\n",
    "# Create UDF\n",
    "rfm_level_udf = udf(rfm_level5, StringType())\n",
    "\n",
    "# Apply the UDF to create new column\n",
    "data = data.withColumn('RFM_Level', \n",
    "    rfm_level_udf(struct('RFM_Score', 'R', 'F', 'M')))\n",
    "\n",
    "# Show results\n",
    "data.show(5)"
   ]
  },
  {
   "cell_type": "code",
   "execution_count": 60,
   "metadata": {},
   "outputs": [
    {
     "name": "stdout",
     "output_type": "stream",
     "text": [
      "+---------+-----+\n",
      "|RFM_Level|count|\n",
      "+---------+-----+\n",
      "|     LOST| 1068|\n",
      "|POTENTIAL|  881|\n",
      "|      VIP|  676|\n",
      "|   ACTIVE|  672|\n",
      "|    LOYAL|  601|\n",
      "+---------+-----+\n",
      "\n"
     ]
    }
   ],
   "source": [
    "data.groupBy('RFM_Level').count().orderBy('count', ascending=False).show()"
   ]
  },
  {
   "cell_type": "code",
   "execution_count": 61,
   "metadata": {},
   "outputs": [
    {
     "name": "stdout",
     "output_type": "stream",
     "text": [
      "+---------+-----------+-------------+------------+-----+-------+\n",
      "|RFM_Level|RecencyMean|FrequencyMean|MonetaryMean|Count|Percent|\n",
      "+---------+-----------+-------------+------------+-----+-------+\n",
      "|   ACTIVE|         68|            7|       53.49|  672|  17.24|\n",
      "|     LOST|        337|            5|        35.1| 1068|   27.4|\n",
      "|    LOYAL|         75|           11|        85.4|  601|  15.42|\n",
      "|POTENTIAL|        238|           11|       96.37|  881|   22.6|\n",
      "|      VIP|         40|           16|      148.52|  676|  17.34|\n",
      "+---------+-----------+-------------+------------+-----+-------+\n",
      "\n"
     ]
    }
   ],
   "source": [
    "from pyspark.sql.functions import percentile_approx, count, round, sum, col, lit\n",
    "\n",
    "# Calculate aggregations\n",
    "rfm_agg = data.groupBy('RFM_Level').agg(\n",
    "    percentile_approx('Recency', 0.5).alias('RecencyMean'),\n",
    "    percentile_approx('Frequency', 0.5).alias('FrequencyMean'),\n",
    "    percentile_approx('Monetary', 0.5).alias('MonetaryMean'),\n",
    "    count('*').alias('Count')\n",
    ")\n",
    "\n",
    "# Calculate total count for percentage\n",
    "total_count = data.count()\n",
    "\n",
    "# Add Percent column\n",
    "rfm_agg = rfm_agg.withColumn('Percent', \n",
    "    round(col('Count') * 100 / lit(total_count), 2))\n",
    "\n",
    "rfm_agg = rfm_agg.orderBy('RFM_Level')\n",
    "# Show results\n",
    "rfm_agg.show()"
   ]
  },
  {
   "cell_type": "markdown",
   "metadata": {},
   "source": [
    "| Cụm | Số lượng | Đặc trưng tiềm năng |\n",
    "|-----|----------|----------------------|\n",
    "| ACTIVE | 679 | Phân khúc trung bình (17.42%), tần suất giao dịch thấp (6.0), chi tiêu thấp (50.6), nhưng hoạt động khá gần đây (68 ngày). Đây là nhóm khách hàng mới hoặc đang hoạt động nhưng chưa thực sự gắn kết. |\n",
    "| LOST | 1085 | Phân khúc lớn nhất (27.83%), tần suất giao dịch thấp nhất (5.0), chi tiêu thấp nhất (35.7), và không hoạt động trong thời gian rất dài (336 ngày). Đây là nhóm khách hàng đã rời bỏ hoặc không còn tích cực. |\n",
    "| LOYAL | 596 | Phân khúc nhỏ nhất (15.29%), tần suất giao dịch cao (10.0), chi tiêu khá cao (86.65), và hoạt động gần đây (74 ngày). Đây là nhóm khách hàng trung thành, ổn định và có giá trị. |\n",
    "| POTENTIAL | 864 | Phân khúc lớn thứ hai (22.17%), tần suất giao dịch cao (10.0), chi tiêu cao (97.3), nhưng không hoạt động gần đây (237 ngày). Đây là nhóm khách hàng tiềm năng cần được kích hoạt lại. |\n",
    "| VIP | 674 | Phân khúc trung bình (17.29%), tần suất giao dịch cao nhất (14.0), chi tiêu cao nhất (148.4), và hoạt động gần đây nhất (40 ngày). Đây là nhóm khách hàng cao cấp, có giá trị nhất cần được ưu tiên chăm sóc. |"
   ]
  },
  {
   "cell_type": "code",
   "execution_count": 62,
   "metadata": {},
   "outputs": [
    {
     "data": {
      "image/png": "[encoded data removed]",
      "text/plain": [
       "<Figure size 1400x1000 with 1 Axes>"
      ]
     },
     "metadata": {},
     "output_type": "display_data"
    }
   ],
   "source": [
    "rfm_agg_pd = rfm_agg.toPandas()\n",
    "\n",
    "# Create our plot and resize it\n",
    "fig = plt.gcf()\n",
    "ax = fig.add_subplot()\n",
    "fig.set_size_inches(14, 10)\n",
    "\n",
    "colors_dict = {'ACTIVE':'yellow','BIG SPENDER':'royalblue', 'LIGHT':'cyan',\n",
    "               'LOST':'red', 'LOYAL':'purple', 'NEW':'green', 'STARS':'gold'}\n",
    "\n",
    "squarify.plot(sizes=rfm_agg_pd['Count'],\n",
    "              text_kwargs={'fontsize':12,'weight':'bold', 'fontname':\"sans serif\"},\n",
    "              color=colors_dict.values(),\n",
    "              label=['{} \\n{:.0f} days \\n{:.0f} orders \\n{:.0f} $ \\n{:.0f} customers ({}%)'.format(*rfm_agg_pd.iloc[i])\n",
    "                      for i in range(0, len(rfm_agg_pd))], alpha=0.5 )\n",
    "\n",
    "plt.title(\"Customers Segments\",fontsize=26,fontweight=\"bold\")\n",
    "plt.axis('off')\n",
    "\n",
    "plt.savefig('outputs/RFM Segments (Pyspark).png')\n",
    "plt.show()"
   ]
  },
  {
   "cell_type": "code",
   "execution_count": 63,
   "metadata": {},
   "outputs": [
    {
     "data": {
      "application/vnd.plotly.v1+json": {
       "config": {
        "plotlyServerURL": "https://plot.ly"
       },
       "data": [
        {
         "hovertemplate": "<b>%{hovertext}</b><br><br>RFM_Level=ACTIVE<br>RecencyMean=%{x}<br>MonetaryMean=%{y}<br>FrequencyMean=%{marker.size}<extra></extra>",
         "hovertext": [
          "ACTIVE"
         ],
         "legendgroup": "ACTIVE",
         "marker": {
          "color": "#636efa",
          "size": [
           7
          ],
          "sizemode": "area",
          "sizeref": 0.0044444444444444444,
          "symbol": "circle"
         },
         "mode": "markers",
         "name": "ACTIVE",
         "orientation": "v",
         "showlegend": true,
         "type": "scatter",
         "x": [
          68
         ],
         "xaxis": "x",
         "y": [
          53.49
         ],
         "yaxis": "y"
        },
        {
         "hovertemplate": "<b>%{hovertext}</b><br><br>RFM_Level=LOST<br>RecencyMean=%{x}<br>MonetaryMean=%{y}<br>FrequencyMean=%{marker.size}<extra></extra>",
         "hovertext": [
          "LOST"
         ],
         "legendgroup": "LOST",
         "marker": {
          "color": "#EF553B",
          "size": [
           5
          ],
          "sizemode": "area",
          "sizeref": 0.0044444444444444444,
          "symbol": "circle"
         },
         "mode": "markers",
         "name": "LOST",
         "orientation": "v",
         "showlegend": true,
         "type": "scatter",
         "x": [
          337
         ],
         "xaxis": "x",
         "y": [
          35.1
         ],
         "yaxis": "y"
        },
        {
         "hovertemplate": "<b>%{hovertext}</b><br><br>RFM_Level=LOYAL<br>RecencyMean=%{x}<br>MonetaryMean=%{y}<br>FrequencyMean=%{marker.size}<extra></extra>",
         "hovertext": [
          "LOYAL"
         ],
         "legendgroup": "LOYAL",
         "marker": {
          "color": "#00cc96",
          "size": [
           11
          ],
          "sizemode": "area",
          "sizeref": 0.0044444444444444444,
          "symbol": "circle"
         },
         "mode": "markers",
         "name": "LOYAL",
         "orientation": "v",
         "showlegend": true,
         "type": "scatter",
         "x": [
          75
         ],
         "xaxis": "x",
         "y": [
          85.4
         ],
         "yaxis": "y"
        },
        {
         "hovertemplate": "<b>%{hovertext}</b><br><br>RFM_Level=POTENTIAL<br>RecencyMean=%{x}<br>MonetaryMean=%{y}<br>FrequencyMean=%{marker.size}<extra></extra>",
         "hovertext": [
          "POTENTIAL"
         ],
         "legendgroup": "POTENTIAL",
         "marker": {
          "color": "#ab63fa",
          "size": [
           11
          ],
          "sizemode": "area",
          "sizeref": 0.0044444444444444444,
          "symbol": "circle"
         },
         "mode": "markers",
         "name": "POTENTIAL",
         "orientation": "v",
         "showlegend": true,
         "type": "scatter",
         "x": [
          238
         ],
         "xaxis": "x",
         "y": [
          96.37
         ],
         "yaxis": "y"
        },
        {
         "hovertemplate": "<b>%{hovertext}</b><br><br>RFM_Level=VIP<br>RecencyMean=%{x}<br>MonetaryMean=%{y}<br>FrequencyMean=%{marker.size}<extra></extra>",
         "hovertext": [
          "VIP"
         ],
         "legendgroup": "VIP",
         "marker": {
          "color": "#FFA15A",
          "size": [
           16
          ],
          "sizemode": "area",
          "sizeref": 0.0044444444444444444,
          "symbol": "circle"
         },
         "mode": "markers",
         "name": "VIP",
         "orientation": "v",
         "showlegend": true,
         "type": "scatter",
         "x": [
          40
         ],
         "xaxis": "x",
         "y": [
          148.52
         ],
         "yaxis": "y"
        }
       ],
       "layout": {
        "legend": {
         "itemsizing": "constant",
         "title": {
          "text": "RFM_Level"
         },
         "tracegroupgap": 0
        },
        "margin": {
         "t": 60
        },
        "template": {
         "data": {
          "bar": [
           {
            "error_x": {
             "color": "#2a3f5f"
            },
            "error_y": {
             "color": "#2a3f5f"
            },
            "marker": {
             "line": {
              "color": "#E5ECF6",
              "width": 0.5
             },
             "pattern": {
              "fillmode": "overlay",
              "size": 10,
              "solidity": 0.2
             }
            },
            "type": "bar"
           }
          ],
          "barpolar": [
           {
            "marker": {
             "line": {
              "color": "#E5ECF6",
              "width": 0.5
             },
             "pattern": {
              "fillmode": "overlay",
              "size": 10,
              "solidity": 0.2
             }
            },
            "type": "barpolar"
           }
          ],
          "carpet": [
           {
            "aaxis": {
             "endlinecolor": "#2a3f5f",
             "gridcolor": "white",
             "linecolor": "white",
             "minorgridcolor": "white",
             "startlinecolor": "#2a3f5f"
            },
            "baxis": {
             "endlinecolor": "#2a3f5f",
             "gridcolor": "white",
             "linecolor": "white",
             "minorgridcolor": "white",
             "startlinecolor": "#2a3f5f"
            },
            "type": "carpet"
           }
          ],
          "choropleth": [
           {
            "colorbar": {
             "outlinewidth": 0,
             "ticks": ""
            },
            "type": "choropleth"
           }
          ],
          "contour": [
           {
            "colorbar": {
             "outlinewidth": 0,
             "ticks": ""
            },
            "colorscale": [
             [
              0,
              "#0d0887"
             ],
             [
              0.1111111111111111,
              "#46039f"
             ],
             [
              0.2222222222222222,
              "#7201a8"
             ],
             [
              0.3333333333333333,
              "#9c179e"
             ],
             [
              0.4444444444444444,
              "#bd3786"
             ],
             [
              0.5555555555555556,
              "#d8576b"
             ],
             [
              0.6666666666666666,
              "#ed7953"
             ],
             [
              0.7777777777777778,
              "#fb9f3a"
             ],
             [
              0.8888888888888888,
              "#fdca26"
             ],
             [
              1,
              "#f0f921"
             ]
            ],
            "type": "contour"
           }
          ],
          "contourcarpet": [
           {
            "colorbar": {
             "outlinewidth": 0,
             "ticks": ""
            },
            "type": "contourcarpet"
           }
          ],
          "heatmap": [
           {
            "colorbar": {
             "outlinewidth": 0,
             "ticks": ""
            },
            "colorscale": [
             [
              0,
              "#0d0887"
             ],
             [
              0.1111111111111111,
              "#46039f"
             ],
             [
              0.2222222222222222,
              "#7201a8"
             ],
             [
              0.3333333333333333,
              "#9c179e"
             ],
             [
              0.4444444444444444,
              "#bd3786"
             ],
             [
              0.5555555555555556,
              "#d8576b"
             ],
             [
              0.6666666666666666,
              "#ed7953"
             ],
             [
              0.7777777777777778,
              "#fb9f3a"
             ],
             [
              0.8888888888888888,
              "#fdca26"
             ],
             [
              1,
              "#f0f921"
             ]
            ],
            "type": "heatmap"
           }
          ],
          "heatmapgl": [
           {
            "colorbar": {
             "outlinewidth": 0,
             "ticks": ""
            },
            "colorscale": [
             [
              0,
              "#0d0887"
             ],
             [
              0.1111111111111111,
              "#46039f"
             ],
             [
              0.2222222222222222,
              "#7201a8"
             ],
             [
              0.3333333333333333,
              "#9c179e"
             ],
             [
              0.4444444444444444,
              "#bd3786"
             ],
             [
              0.5555555555555556,
              "#d8576b"
             ],
             [
              0.6666666666666666,
              "#ed7953"
             ],
             [
              0.7777777777777778,
              "#fb9f3a"
             ],
             [
              0.8888888888888888,
              "#fdca26"
             ],
             [
              1,
              "#f0f921"
             ]
            ],
            "type": "heatmapgl"
           }
          ],
          "histogram": [
           {
            "marker": {
             "pattern": {
              "fillmode": "overlay",
              "size": 10,
              "solidity": 0.2
             }
            },
            "type": "histogram"
           }
          ],
          "histogram2d": [
           {
            "colorbar": {
             "outlinewidth": 0,
             "ticks": ""
            },
            "colorscale": [
             [
              0,
              "#0d0887"
             ],
             [
              0.1111111111111111,
              "#46039f"
             ],
             [
              0.2222222222222222,
              "#7201a8"
             ],
             [
              0.3333333333333333,
              "#9c179e"
             ],
             [
              0.4444444444444444,
              "#bd3786"
             ],
             [
              0.5555555555555556,
              "#d8576b"
             ],
             [
              0.6666666666666666,
              "#ed7953"
             ],
             [
              0.7777777777777778,
              "#fb9f3a"
             ],
             [
              0.8888888888888888,
              "#fdca26"
             ],
             [
              1,
              "#f0f921"
             ]
            ],
            "type": "histogram2d"
           }
          ],
          "histogram2dcontour": [
           {
            "colorbar": {
             "outlinewidth": 0,
             "ticks": ""
            },
            "colorscale": [
             [
              0,
              "#0d0887"
             ],
             [
              0.1111111111111111,
              "#46039f"
             ],
             [
              0.2222222222222222,
              "#7201a8"
             ],
             [
              0.3333333333333333,
              "#9c179e"
             ],
             [
              0.4444444444444444,
              "#bd3786"
             ],
             [
              0.5555555555555556,
              "#d8576b"
             ],
             [
              0.6666666666666666,
              "#ed7953"
             ],
             [
              0.7777777777777778,
              "#fb9f3a"
             ],
             [
              0.8888888888888888,
              "#fdca26"
             ],
             [
              1,
              "#f0f921"
             ]
            ],
            "type": "histogram2dcontour"
           }
          ],
          "mesh3d": [
           {
            "colorbar": {
             "outlinewidth": 0,
             "ticks": ""
            },
            "type": "mesh3d"
           }
          ],
          "parcoords": [
           {
            "line": {
             "colorbar": {
              "outlinewidth": 0,
              "ticks": ""
             }
            },
            "type": "parcoords"
           }
          ],
          "pie": [
           {
            "automargin": true,
            "type": "pie"
           }
          ],
          "scatter": [
           {
            "fillpattern": {
             "fillmode": "overlay",
             "size": 10,
             "solidity": 0.2
            },
            "type": "scatter"
           }
          ],
          "scatter3d": [
           {
            "line": {
             "colorbar": {
              "outlinewidth": 0,
              "ticks": ""
             }
            },
            "marker": {
             "colorbar": {
              "outlinewidth": 0,
              "ticks": ""
             }
            },
            "type": "scatter3d"
           }
          ],
          "scattercarpet": [
           {
            "marker": {
             "colorbar": {
              "outlinewidth": 0,
              "ticks": ""
             }
            },
            "type": "scattercarpet"
           }
          ],
          "scattergeo": [
           {
            "marker": {
             "colorbar": {
              "outlinewidth": 0,
              "ticks": ""
             }
            },
            "type": "scattergeo"
           }
          ],
          "scattergl": [
           {
            "marker": {
             "colorbar": {
              "outlinewidth": 0,
              "ticks": ""
             }
            },
            "type": "scattergl"
           }
          ],
          "scattermapbox": [
           {
            "marker": {
             "colorbar": {
              "outlinewidth": 0,
              "ticks": ""
             }
            },
            "type": "scattermapbox"
           }
          ],
          "scatterpolar": [
           {
            "marker": {
             "colorbar": {
              "outlinewidth": 0,
              "ticks": ""
             }
            },
            "type": "scatterpolar"
           }
          ],
          "scatterpolargl": [
           {
            "marker": {
             "colorbar": {
              "outlinewidth": 0,
              "ticks": ""
             }
            },
            "type": "scatterpolargl"
           }
          ],
          "scatterternary": [
           {
            "marker": {
             "colorbar": {
              "outlinewidth": 0,
              "ticks": ""
             }
            },
            "type": "scatterternary"
           }
          ],
          "surface": [
           {
            "colorbar": {
             "outlinewidth": 0,
             "ticks": ""
            },
            "colorscale": [
             [
              0,
              "#0d0887"
             ],
             [
              0.1111111111111111,
              "#46039f"
             ],
             [
              0.2222222222222222,
              "#7201a8"
             ],
             [
              0.3333333333333333,
              "#9c179e"
             ],
             [
              0.4444444444444444,
              "#bd3786"
             ],
             [
              0.5555555555555556,
              "#d8576b"
             ],
             [
              0.6666666666666666,
              "#ed7953"
             ],
             [
              0.7777777777777778,
              "#fb9f3a"
             ],
             [
              0.8888888888888888,
              "#fdca26"
             ],
             [
              1,
              "#f0f921"
             ]
            ],
            "type": "surface"
           }
          ],
          "table": [
           {
            "cells": {
             "fill": {
              "color": "#EBF0F8"
             },
             "line": {
              "color": "white"
             }
            },
            "header": {
             "fill": {
              "color": "#C8D4E3"
             },
             "line": {
              "color": "white"
             }
            },
            "type": "table"
           }
          ]
         },
         "layout": {
          "annotationdefaults": {
           "arrowcolor": "#2a3f5f",
           "arrowhead": 0,
           "arrowwidth": 1
          },
          "autotypenumbers": "strict",
          "coloraxis": {
           "colorbar": {
            "outlinewidth": 0,
            "ticks": ""
           }
          },
          "colorscale": {
           "diverging": [
            [
             0,
             "#8e0152"
            ],
            [
             0.1,
             "#c51b7d"
            ],
            [
             0.2,
             "#de77ae"
            ],
            [
             0.3,
             "#f1b6da"
            ],
            [
             0.4,
             "#fde0ef"
            ],
            [
             0.5,
             "#f7f7f7"
            ],
            [
             0.6,
             "#e6f5d0"
            ],
            [
             0.7,
             "#b8e186"
            ],
            [
             0.8,
             "#7fbc41"
            ],
            [
             0.9,
             "#4d9221"
            ],
            [
             1,
             "#276419"
            ]
           ],
           "sequential": [
            [
             0,
             "#0d0887"
            ],
            [
             0.1111111111111111,
             "#46039f"
            ],
            [
             0.2222222222222222,
             "#7201a8"
            ],
            [
             0.3333333333333333,
             "#9c179e"
            ],
            [
             0.4444444444444444,
             "#bd3786"
            ],
            [
             0.5555555555555556,
             "#d8576b"
            ],
            [
             0.6666666666666666,
             "#ed7953"
            ],
            [
             0.7777777777777778,
             "#fb9f3a"
            ],
            [
             0.8888888888888888,
             "#fdca26"
            ],
            [
             1,
             "#f0f921"
            ]
           ],
           "sequentialminus": [
            [
             0,
             "#0d0887"
            ],
            [
             0.1111111111111111,
             "#46039f"
            ],
            [
             0.2222222222222222,
             "#7201a8"
            ],
            [
             0.3333333333333333,
             "#9c179e"
            ],
            [
             0.4444444444444444,
             "#bd3786"
            ],
            [
             0.5555555555555556,
             "#d8576b"
            ],
            [
             0.6666666666666666,
             "#ed7953"
            ],
            [
             0.7777777777777778,
             "#fb9f3a"
            ],
            [
             0.8888888888888888,
             "#fdca26"
            ],
            [
             1,
             "#f0f921"
            ]
           ]
          },
          "colorway": [
           "#636efa",
           "#EF553B",
           "#00cc96",
           "#ab63fa",
           "#FFA15A",
           "#19d3f3",
           "#FF6692",
           "#B6E880",
           "#FF97FF",
           "#FECB52"
          ],
          "font": {
           "color": "#2a3f5f"
          },
          "geo": {
           "bgcolor": "white",
           "lakecolor": "white",
           "landcolor": "#E5ECF6",
           "showlakes": true,
           "showland": true,
           "subunitcolor": "white"
          },
          "hoverlabel": {
           "align": "left"
          },
          "hovermode": "closest",
          "mapbox": {
           "style": "light"
          },
          "paper_bgcolor": "white",
          "plot_bgcolor": "#E5ECF6",
          "polar": {
           "angularaxis": {
            "gridcolor": "white",
            "linecolor": "white",
            "ticks": ""
           },
           "bgcolor": "#E5ECF6",
           "radialaxis": {
            "gridcolor": "white",
            "linecolor": "white",
            "ticks": ""
           }
          },
          "scene": {
           "xaxis": {
            "backgroundcolor": "#E5ECF6",
            "gridcolor": "white",
            "gridwidth": 2,
            "linecolor": "white",
            "showbackground": true,
            "ticks": "",
            "zerolinecolor": "white"
           },
           "yaxis": {
            "backgroundcolor": "#E5ECF6",
            "gridcolor": "white",
            "gridwidth": 2,
            "linecolor": "white",
            "showbackground": true,
            "ticks": "",
            "zerolinecolor": "white"
           },
           "zaxis": {
            "backgroundcolor": "#E5ECF6",
            "gridcolor": "white",
            "gridwidth": 2,
            "linecolor": "white",
            "showbackground": true,
            "ticks": "",
            "zerolinecolor": "white"
           }
          },
          "shapedefaults": {
           "line": {
            "color": "#2a3f5f"
           }
          },
          "ternary": {
           "aaxis": {
            "gridcolor": "white",
            "linecolor": "white",
            "ticks": ""
           },
           "baxis": {
            "gridcolor": "white",
            "linecolor": "white",
            "ticks": ""
           },
           "bgcolor": "#E5ECF6",
           "caxis": {
            "gridcolor": "white",
            "linecolor": "white",
            "ticks": ""
           }
          },
          "title": {
           "x": 0.05
          },
          "xaxis": {
           "automargin": true,
           "gridcolor": "white",
           "linecolor": "white",
           "ticks": "",
           "title": {
            "standoff": 15
           },
           "zerolinecolor": "white",
           "zerolinewidth": 2
          },
          "yaxis": {
           "automargin": true,
           "gridcolor": "white",
           "linecolor": "white",
           "ticks": "",
           "title": {
            "standoff": 15
           },
           "zerolinecolor": "white",
           "zerolinewidth": 2
          }
         }
        },
        "xaxis": {
         "anchor": "y",
         "domain": [
          0,
          1
         ],
         "title": {
          "text": "RecencyMean"
         }
        },
        "yaxis": {
         "anchor": "x",
         "domain": [
          0,
          1
         ],
         "title": {
          "text": "MonetaryMean"
         }
        }
       }
      }
     },
     "metadata": {},
     "output_type": "display_data"
    }
   ],
   "source": [
    "import plotly.express as px\n",
    "\n",
    "fig = px.scatter(rfm_agg_pd, x=\"RecencyMean\", y=\"MonetaryMean\", size=\"FrequencyMean\", color=\"RFM_Level\",\n",
    "           hover_name=\"RFM_Level\", size_max = 60) \n",
    "fig.show()"
   ]
  },
  {
   "cell_type": "markdown",
   "metadata": {},
   "source": [
    "## KMeans\n",
    "### Kmeans clusters with the Elbow Method"
   ]
  },
  {
   "cell_type": "code",
   "execution_count": 64,
   "metadata": {},
   "outputs": [
    {
     "name": "stdout",
     "output_type": "stream",
     "text": [
      "+-------+---------+--------+\n",
      "|Recency|Frequency|Monetary|\n",
      "+-------+---------+--------+\n",
      "|     91|       27|  361.45|\n",
      "|     26|       25|   345.1|\n",
      "|      4|       29|  334.15|\n",
      "|      3|       30|  316.81|\n",
      "|    142|       17|  312.46|\n",
      "+-------+---------+--------+\n",
      "only showing top 5 rows\n",
      "\n"
     ]
    }
   ],
   "source": [
    "# Select the required columns\n",
    "data_kmeans = data.select('Recency', 'Frequency', 'Monetary')\n",
    "\n",
    "# Show the first few rows\n",
    "data_kmeans.show(5)"
   ]
  },
  {
   "cell_type": "code",
   "execution_count": 65,
   "metadata": {},
   "outputs": [
    {
     "data": {
      "image/png": "[encoded data removed]",
      "text/plain": [
       "<Figure size 640x480 with 1 Axes>"
      ]
     },
     "metadata": {},
     "output_type": "display_data"
    },
    {
     "name": "stdout",
     "output_type": "stream",
     "text": [
      "With k = 2- Silhouette = 0.7619558708181722\n",
      "With k = 3- Silhouette = 0.6645514614502243\n",
      "With k = 4- Silhouette = 0.5865495740267831\n",
      "With k = 5- Silhouette = 0.5757584911180296\n",
      "With k = 6- Silhouette = 0.5482165043760858\n",
      "With k = 7- Silhouette = 0.555358179099408\n",
      "With k = 8- Silhouette = 0.5346871943679183\n",
      "With k = 9- Silhouette = 0.544607156891333\n",
      "With k = 10- Silhouette = 0.5265235942804095\n",
      "\n"
     ]
    }
   ],
   "source": [
    "from pyspark.ml.clustering import KMeans\n",
    "from pyspark.ml.feature import VectorAssembler, StandardScaler\n",
    "from pyspark.sql.functions import col, when\n",
    "from pyspark.ml.evaluation import ClusteringEvaluator\n",
    "\n",
    "# Convert features to vector column\n",
    "assembler = VectorAssembler(inputCols=['Recency', 'Frequency', 'Monetary'], outputCol='features')\n",
    "data_with_features = assembler.transform(data_kmeans)\n",
    "\n",
    "scaler = StandardScaler(inputCol=\"features\", outputCol=\"scaled_features\")\n",
    "scaler_model = scaler.fit(data_with_features)\n",
    "scaled_data = scaler_model.transform(data_with_features)\n",
    "\n",
    "# Calculate SSE for different k values\n",
    "k_list = []\n",
    "silhouette_list = []\n",
    "sil_str =''\n",
    "\n",
    "for k in range(2, 11):\n",
    "    kmeans = KMeans(k=k, seed=42, featuresCol='features')\n",
    "    model = kmeans.fit(scaled_data)\n",
    "    k_list.append(k)\n",
    "\n",
    "    #silhouette\n",
    "    predictions = model.transform(scaled_data)\n",
    "\n",
    "    #Evaluate clistering by computing Silhouette score\n",
    "    evaluator = ClusteringEvaluator()\n",
    "    silhouette = evaluator.evaluate(predictions)\n",
    "    silhouette_list.append(silhouette)\n",
    "    \n",
    "    sil_str = sil_str + 'With k = ' + str(k) + '- Silhouette = ' + str(silhouette) + '\\n'\n",
    "\n",
    "plt.plot(k_list, silhouette_list)\n",
    "plt.show()\n",
    "print(sil_str)"
   ]
  },
  {
   "cell_type": "markdown",
   "metadata": {},
   "source": [
    "==> Chọn k = 5"
   ]
  },
  {
   "cell_type": "markdown",
   "metadata": {},
   "source": [
    "#### Xây dựng mô hình với K = 5"
   ]
  },
  {
   "cell_type": "code",
   "execution_count": 66,
   "metadata": {},
   "outputs": [
    {
     "name": "stdout",
     "output_type": "stream",
     "text": [
      "+-------+---------+--------+-------------------+--------------------+----------+\n",
      "|Recency|Frequency|Monetary|           features|     scaled_features|prediction|\n",
      "+-------+---------+--------+-------------------+--------------------+----------+\n",
      "|     91|       27|  361.45| [91.0,27.0,361.45]|[0.56906053559043...|         0|\n",
      "|     26|       25|   345.1|  [26.0,25.0,345.1]|[0.16258872445440...|         0|\n",
      "|      4|       29|  334.15|  [4.0,29.0,334.15]|[0.02501364991606...|         0|\n",
      "|      3|       30|  316.81|  [3.0,30.0,316.81]|[0.01876023743704...|         0|\n",
      "|    142|       17|  312.46|[142.0,17.0,312.46]|[0.88798457202023...|         0|\n",
      "+-------+---------+--------+-------------------+--------------------+----------+\n",
      "only showing top 5 rows\n",
      "\n"
     ]
    }
   ],
   "source": [
    "kmeans = KMeans().setK(5).setSeed(1)\n",
    "model = kmeans.fit(scaled_data)\n",
    "\n",
    "predictions = model.transform(scaled_data)\n",
    "\n",
    "predictions.show(5)"
   ]
  },
  {
   "cell_type": "markdown",
   "metadata": {},
   "source": [
    "#### Đánh giá mô hình"
   ]
  },
  {
   "cell_type": "markdown",
   "metadata": {},
   "source": [
    "==> Hiển thị dữ liệu theo cụm được dự đoán"
   ]
  },
  {
   "cell_type": "code",
   "execution_count": 67,
   "metadata": {},
   "outputs": [],
   "source": [
    "selected_columns = ['Recency', 'Frequency', 'Monetary']"
   ]
  },
  {
   "cell_type": "code",
   "execution_count": 68,
   "metadata": {},
   "outputs": [
    {
     "name": "stdout",
     "output_type": "stream",
     "text": [
      "+----------+-------+---------+--------+\n",
      "|prediction|Recency|Frequency|Monetary|\n",
      "+----------+-------+---------+--------+\n",
      "|         0|     91|       27|  361.45|\n",
      "|         0|     26|       25|   345.1|\n",
      "|         0|      4|       29|  334.15|\n",
      "|         0|      3|       30|  316.81|\n",
      "|         0|    142|       17|  312.46|\n",
      "|         4|    310|       20|  305.72|\n",
      "|         0|    140|       24|  303.61|\n",
      "|         0|     37|       30|  301.33|\n",
      "|         0|     52|       23|   301.1|\n",
      "|         0|    239|       15|  296.96|\n",
      "+----------+-------+---------+--------+\n",
      "only showing top 10 rows\n",
      "\n"
     ]
    }
   ],
   "source": [
    "final_data = predictions.select('prediction', *selected_columns)\n",
    "\n",
    "final_data.show(10)"
   ]
  },
  {
   "cell_type": "code",
   "execution_count": 69,
   "metadata": {},
   "outputs": [
    {
     "name": "stdout",
     "output_type": "stream",
     "text": [
      "+----------+-----+\n",
      "|prediction|count|\n",
      "+----------+-----+\n",
      "|         0|  597|\n",
      "|         1| 1047|\n",
      "|         2|  327|\n",
      "|         3| 1192|\n",
      "|         4|  735|\n",
      "+----------+-----+\n",
      "\n"
     ]
    }
   ],
   "source": [
    "predictions.groupBy('prediction').count().orderBy('prediction').show()"
   ]
  },
  {
   "cell_type": "markdown",
   "metadata": {},
   "source": [
    "# Phân tích kết quả phân cụm\n"
   ]
  },
  {
   "cell_type": "code",
   "execution_count": 70,
   "metadata": {},
   "outputs": [],
   "source": [
    "pandas_df = final_data.toPandas()"
   ]
  },
  {
   "cell_type": "code",
   "execution_count": 71,
   "metadata": {},
   "outputs": [
    {
     "name": "stdout",
     "output_type": "stream",
     "text": [
      "+----------+-----+\n",
      "|prediction|count|\n",
      "+----------+-----+\n",
      "|         0|  597|\n",
      "|         1| 1047|\n",
      "|         2|  327|\n",
      "|         3| 1192|\n",
      "|         4|  735|\n",
      "+----------+-----+\n",
      "\n"
     ]
    },
    {
     "data": {
      "text/html": [
       "<div>\n",
       "<style scoped>\n",
       "    .dataframe tbody tr th:only-of-type {\n",
       "        vertical-align: middle;\n",
       "    }\n",
       "\n",
       "    .dataframe tbody tr th {\n",
       "        vertical-align: top;\n",
       "    }\n",
       "\n",
       "    .dataframe thead th {\n",
       "        text-align: right;\n",
       "    }\n",
       "</style>\n",
       "<table border=\"1\" class=\"dataframe\">\n",
       "  <thead>\n",
       "    <tr style=\"text-align: right;\">\n",
       "      <th></th>\n",
       "      <th>Recency</th>\n",
       "      <th>Frequency</th>\n",
       "      <th>Monetary</th>\n",
       "    </tr>\n",
       "    <tr>\n",
       "      <th>prediction</th>\n",
       "      <th></th>\n",
       "      <th></th>\n",
       "      <th></th>\n",
       "    </tr>\n",
       "  </thead>\n",
       "  <tbody>\n",
       "    <tr>\n",
       "      <th>0</th>\n",
       "      <td>63.768844</td>\n",
       "      <td>17.128978</td>\n",
       "      <td>175.854221</td>\n",
       "    </tr>\n",
       "    <tr>\n",
       "      <th>1</th>\n",
       "      <td>187.133715</td>\n",
       "      <td>9.492837</td>\n",
       "      <td>78.235425</td>\n",
       "    </tr>\n",
       "    <tr>\n",
       "      <th>2</th>\n",
       "      <td>551.455657</td>\n",
       "      <td>4.574924</td>\n",
       "      <td>37.846942</td>\n",
       "    </tr>\n",
       "    <tr>\n",
       "      <th>3</th>\n",
       "      <td>54.235738</td>\n",
       "      <td>9.600671</td>\n",
       "      <td>71.528389</td>\n",
       "    </tr>\n",
       "    <tr>\n",
       "      <th>4</th>\n",
       "      <td>343.790476</td>\n",
       "      <td>7.368707</td>\n",
       "      <td>63.121837</td>\n",
       "    </tr>\n",
       "  </tbody>\n",
       "</table>\n",
       "</div>"
      ],
      "text/plain": [
       "               Recency  Frequency    Monetary\n",
       "prediction                                   \n",
       "0            63.768844  17.128978  175.854221\n",
       "1           187.133715   9.492837   78.235425\n",
       "2           551.455657   4.574924   37.846942\n",
       "3            54.235738   9.600671   71.528389\n",
       "4           343.790476   7.368707   63.121837"
      ]
     },
     "execution_count": 71,
     "metadata": {},
     "output_type": "execute_result"
    }
   ],
   "source": [
    "predictions.groupBy('prediction').count().orderBy('prediction').show()\n",
    "cluster_summary = pandas_df.groupby(\"prediction\").mean()\n",
    "cluster_summary"
   ]
  },
  {
   "cell_type": "code",
   "execution_count": 72,
   "metadata": {},
   "outputs": [
    {
     "name": "stdout",
     "output_type": "stream",
     "text": [
      "+----------+-----------+-------------+------------+-----+-------+\n",
      "|prediction|RecencyMean|FrequencyMean|MonetaryMean|Count|Percent|\n",
      "+----------+-----------+-------------+------------+-----+-------+\n",
      "|         0|         56|           17|      162.74|  597|  15.32|\n",
      "|         1|        185|            9|       72.85| 1047|  26.86|\n",
      "|         2|        542|            4|       29.14|  327|   8.39|\n",
      "|         3|         51|           10|        73.0| 1192|  30.58|\n",
      "|         4|        339|            7|        57.0|  735|  18.86|\n",
      "+----------+-----------+-------------+------------+-----+-------+\n",
      "\n"
     ]
    }
   ],
   "source": [
    "from pyspark.sql.functions import percentile_approx, count, round, sum, col, lit\n",
    "\n",
    "# Calculate aggregations\n",
    "rfm_agg2 = final_data.groupBy('prediction').agg(\n",
    "    percentile_approx('Recency', 0.5).alias('RecencyMean'),\n",
    "    percentile_approx('Frequency', 0.5).alias('FrequencyMean'),\n",
    "    percentile_approx('Monetary', 0.5).alias('MonetaryMean'),\n",
    "    count('*').alias('Count')\n",
    ")\n",
    "\n",
    "# Calculate total count for percentage\n",
    "total_count = final_data.count()\n",
    "\n",
    "# Add Percent column\n",
    "rfm_agg2 = rfm_agg2.withColumn('Percent', \n",
    "    round(col('Count') * 100 / lit(total_count), 2))\n",
    "\n",
    "rfm_agg2 = rfm_agg2.orderBy('prediction')\n",
    "# Show results\n",
    "rfm_agg2.show()"
   ]
  },
  {
   "cell_type": "markdown",
   "metadata": {},
   "source": [
    "\n",
    "| Cụm | Số lượng | Đặc trưng tiềm năng |\n",
    "|-----|----------|----------------------|\n",
    "| 0 | 597 | Phân khúc khách hàng trung bình (15.32%), có tần suất giao dịch cao nhất (15.0), chi tiêu cao nhất (162.74), và hoạt động gần đây nhất (56 ngày). Đây là nhóm khách hàng VIP, có giá trị cao và trung thành. |\n",
    "| 1 | 1047 | Phân khúc lớn thứ hai (26.86%), tần suất giao dịch trung bình (8.0), chi tiêu trung bình (72.85), nhưng không hoạt động gần đây (185 ngày). Nhóm khách hàng tiềm năng cần được kích hoạt lại. |\n",
    "| 2 | 327 | Phân khúc nhỏ nhất (8.39%), tần suất giao dịch thấp nhất (4.0), chi tiêu thấp nhất (29.14), và không hoạt động trong thời gian rất dài (542 ngày). Đây là nhóm khách hàng có nguy cơ mất hoặc đã rời bỏ. |\n",
    "| 3 | 1192 | Phân khúc lớn nhất (30.58%), tần suất giao dịch trung bình (9.0), chi tiêu trung bình (73.0), và hoạt động gần đây (51 ngày). Đây là nhóm khách hàng phổ thông, ổn định và đang tích cực. |\n",
    "| 4 | 735 | Phân khúc trung bình (18.86%), tần suất giao dịch thấp (7.0), chi tiêu thấp (57.0), và không hoạt động trong thời gian dài (339 ngày). Nhóm khách hàng đang giảm dần sự gắn kết, cần chiến lược giữ chân. |\n",
    "---"
   ]
  },
  {
   "cell_type": "code",
   "execution_count": 73,
   "metadata": {},
   "outputs": [
    {
     "data": {
      "image/png": "[encoded data removed]",
      "text/plain": [
       "<Figure size 1400x1000 with 1 Axes>"
      ]
     },
     "metadata": {},
     "output_type": "display_data"
    }
   ],
   "source": [
    "rfm_agg_pd2 = rfm_agg2.toPandas()\n",
    "\n",
    "# Create our plot and resize it\n",
    "fig = plt.gcf()\n",
    "ax = fig.add_subplot()\n",
    "fig.set_size_inches(14, 10)\n",
    "\n",
    "colors_dict = {'0':'yellow','1':'royalblue', '2':'cyan',\n",
    "               '3':'red', '4':'purple', '5':'green', '6':'gold'}\n",
    "\n",
    "squarify.plot(sizes=rfm_agg_pd2['Count'],\n",
    "              text_kwargs={'fontsize':12,'weight':'bold', 'fontname':\"sans serif\"},\n",
    "              color=colors_dict.values(),\n",
    "              label=['{} \\n{:.0f} days \\n{:.0f} orders \\n{:.0f} $ \\n{:.0f} customers ({}%)'.format(*rfm_agg_pd2.iloc[i])\n",
    "                      for i in range(0, len(rfm_agg_pd2))], alpha=0.5 )\n",
    "\n",
    "plt.title(\"Customers Segments\",fontsize=26,fontweight=\"bold\")\n",
    "plt.axis('off')\n",
    "\n",
    "plt.savefig('outputs/Kmeans Unsupervised Segments (Pyspark).png')\n",
    "plt.show()"
   ]
  },
  {
   "cell_type": "code",
   "execution_count": 74,
   "metadata": {},
   "outputs": [
    {
     "data": {
      "application/vnd.plotly.v1+json": {
       "config": {
        "plotlyServerURL": "https://plot.ly"
       },
       "data": [
        {
         "hovertemplate": "<b>%{hovertext}</b><br><br>RecencyMean=%{x}<br>MonetaryMean=%{y}<br>FrequencyMean=%{marker.size}<br>prediction=%{marker.color}<extra></extra>",
         "hovertext": [
          0,
          1,
          2,
          3,
          4
         ],
         "legendgroup": "",
         "marker": {
          "color": [
           0,
           1,
           2,
           3,
           4
          ],
          "coloraxis": "coloraxis",
          "size": [
           17,
           9,
           4,
           10,
           7
          ],
          "sizemode": "area",
          "sizeref": 0.004722222222222222,
          "symbol": "circle"
         },
         "mode": "markers",
         "name": "",
         "orientation": "v",
         "showlegend": false,
         "type": "scatter",
         "x": [
          56,
          185,
          542,
          51,
          339
         ],
         "xaxis": "x",
         "y": [
          162.74,
          72.85,
          29.14,
          73,
          57
         ],
         "yaxis": "y"
        }
       ],
       "layout": {
        "coloraxis": {
         "colorbar": {
          "title": {
           "text": "prediction"
          }
         },
         "colorscale": [
          [
           0,
           "#0d0887"
          ],
          [
           0.1111111111111111,
           "#46039f"
          ],
          [
           0.2222222222222222,
           "#7201a8"
          ],
          [
           0.3333333333333333,
           "#9c179e"
          ],
          [
           0.4444444444444444,
           "#bd3786"
          ],
          [
           0.5555555555555556,
           "#d8576b"
          ],
          [
           0.6666666666666666,
           "#ed7953"
          ],
          [
           0.7777777777777778,
           "#fb9f3a"
          ],
          [
           0.8888888888888888,
           "#fdca26"
          ],
          [
           1,
           "#f0f921"
          ]
         ]
        },
        "legend": {
         "itemsizing": "constant",
         "tracegroupgap": 0
        },
        "margin": {
         "t": 60
        },
        "template": {
         "data": {
          "bar": [
           {
            "error_x": {
             "color": "#2a3f5f"
            },
            "error_y": {
             "color": "#2a3f5f"
            },
            "marker": {
             "line": {
              "color": "#E5ECF6",
              "width": 0.5
             },
             "pattern": {
              "fillmode": "overlay",
              "size": 10,
              "solidity": 0.2
             }
            },
            "type": "bar"
           }
          ],
          "barpolar": [
           {
            "marker": {
             "line": {
              "color": "#E5ECF6",
              "width": 0.5
             },
             "pattern": {
              "fillmode": "overlay",
              "size": 10,
              "solidity": 0.2
             }
            },
            "type": "barpolar"
           }
          ],
          "carpet": [
           {
            "aaxis": {
             "endlinecolor": "#2a3f5f",
             "gridcolor": "white",
             "linecolor": "white",
             "minorgridcolor": "white",
             "startlinecolor": "#2a3f5f"
            },
            "baxis": {
             "endlinecolor": "#2a3f5f",
             "gridcolor": "white",
             "linecolor": "white",
             "minorgridcolor": "white",
             "startlinecolor": "#2a3f5f"
            },
            "type": "carpet"
           }
          ],
          "choropleth": [
           {
            "colorbar": {
             "outlinewidth": 0,
             "ticks": ""
            },
            "type": "choropleth"
           }
          ],
          "contour": [
           {
            "colorbar": {
             "outlinewidth": 0,
             "ticks": ""
            },
            "colorscale": [
             [
              0,
              "#0d0887"
             ],
             [
              0.1111111111111111,
              "#46039f"
             ],
             [
              0.2222222222222222,
              "#7201a8"
             ],
             [
              0.3333333333333333,
              "#9c179e"
             ],
             [
              0.4444444444444444,
              "#bd3786"
             ],
             [
              0.5555555555555556,
              "#d8576b"
             ],
             [
              0.6666666666666666,
              "#ed7953"
             ],
             [
              0.7777777777777778,
              "#fb9f3a"
             ],
             [
              0.8888888888888888,
              "#fdca26"
             ],
             [
              1,
              "#f0f921"
             ]
            ],
            "type": "contour"
           }
          ],
          "contourcarpet": [
           {
            "colorbar": {
             "outlinewidth": 0,
             "ticks": ""
            },
            "type": "contourcarpet"
           }
          ],
          "heatmap": [
           {
            "colorbar": {
             "outlinewidth": 0,
             "ticks": ""
            },
            "colorscale": [
             [
              0,
              "#0d0887"
             ],
             [
              0.1111111111111111,
              "#46039f"
             ],
             [
              0.2222222222222222,
              "#7201a8"
             ],
             [
              0.3333333333333333,
              "#9c179e"
             ],
             [
              0.4444444444444444,
              "#bd3786"
             ],
             [
              0.5555555555555556,
              "#d8576b"
             ],
             [
              0.6666666666666666,
              "#ed7953"
             ],
             [
              0.7777777777777778,
              "#fb9f3a"
             ],
             [
              0.8888888888888888,
              "#fdca26"
             ],
             [
              1,
              "#f0f921"
             ]
            ],
            "type": "heatmap"
           }
          ],
          "heatmapgl": [
           {
            "colorbar": {
             "outlinewidth": 0,
             "ticks": ""
            },
            "colorscale": [
             [
              0,
              "#0d0887"
             ],
             [
              0.1111111111111111,
              "#46039f"
             ],
             [
              0.2222222222222222,
              "#7201a8"
             ],
             [
              0.3333333333333333,
              "#9c179e"
             ],
             [
              0.4444444444444444,
              "#bd3786"
             ],
             [
              0.5555555555555556,
              "#d8576b"
             ],
             [
              0.6666666666666666,
              "#ed7953"
             ],
             [
              0.7777777777777778,
              "#fb9f3a"
             ],
             [
              0.8888888888888888,
              "#fdca26"
             ],
             [
              1,
              "#f0f921"
             ]
            ],
            "type": "heatmapgl"
           }
          ],
          "histogram": [
           {
            "marker": {
             "pattern": {
              "fillmode": "overlay",
              "size": 10,
              "solidity": 0.2
             }
            },
            "type": "histogram"
           }
          ],
          "histogram2d": [
           {
            "colorbar": {
             "outlinewidth": 0,
             "ticks": ""
            },
            "colorscale": [
             [
              0,
              "#0d0887"
             ],
             [
              0.1111111111111111,
              "#46039f"
             ],
             [
              0.2222222222222222,
              "#7201a8"
             ],
             [
              0.3333333333333333,
              "#9c179e"
             ],
             [
              0.4444444444444444,
              "#bd3786"
             ],
             [
              0.5555555555555556,
              "#d8576b"
             ],
             [
              0.6666666666666666,
              "#ed7953"
             ],
             [
              0.7777777777777778,
              "#fb9f3a"
             ],
             [
              0.8888888888888888,
              "#fdca26"
             ],
             [
              1,
              "#f0f921"
             ]
            ],
            "type": "histogram2d"
           }
          ],
          "histogram2dcontour": [
           {
            "colorbar": {
             "outlinewidth": 0,
             "ticks": ""
            },
            "colorscale": [
             [
              0,
              "#0d0887"
             ],
             [
              0.1111111111111111,
              "#46039f"
             ],
             [
              0.2222222222222222,
              "#7201a8"
             ],
             [
              0.3333333333333333,
              "#9c179e"
             ],
             [
              0.4444444444444444,
              "#bd3786"
             ],
             [
              0.5555555555555556,
              "#d8576b"
             ],
             [
              0.6666666666666666,
              "#ed7953"
             ],
             [
              0.7777777777777778,
              "#fb9f3a"
             ],
             [
              0.8888888888888888,
              "#fdca26"
             ],
             [
              1,
              "#f0f921"
             ]
            ],
            "type": "histogram2dcontour"
           }
          ],
          "mesh3d": [
           {
            "colorbar": {
             "outlinewidth": 0,
             "ticks": ""
            },
            "type": "mesh3d"
           }
          ],
          "parcoords": [
           {
            "line": {
             "colorbar": {
              "outlinewidth": 0,
              "ticks": ""
             }
            },
            "type": "parcoords"
           }
          ],
          "pie": [
           {
            "automargin": true,
            "type": "pie"
           }
          ],
          "scatter": [
           {
            "fillpattern": {
             "fillmode": "overlay",
             "size": 10,
             "solidity": 0.2
            },
            "type": "scatter"
           }
          ],
          "scatter3d": [
           {
            "line": {
             "colorbar": {
              "outlinewidth": 0,
              "ticks": ""
             }
            },
            "marker": {
             "colorbar": {
              "outlinewidth": 0,
              "ticks": ""
             }
            },
            "type": "scatter3d"
           }
          ],
          "scattercarpet": [
           {
            "marker": {
             "colorbar": {
              "outlinewidth": 0,
              "ticks": ""
             }
            },
            "type": "scattercarpet"
           }
          ],
          "scattergeo": [
           {
            "marker": {
             "colorbar": {
              "outlinewidth": 0,
              "ticks": ""
             }
            },
            "type": "scattergeo"
           }
          ],
          "scattergl": [
           {
            "marker": {
             "colorbar": {
              "outlinewidth": 0,
              "ticks": ""
             }
            },
            "type": "scattergl"
           }
          ],
          "scattermapbox": [
           {
            "marker": {
             "colorbar": {
              "outlinewidth": 0,
              "ticks": ""
             }
            },
            "type": "scattermapbox"
           }
          ],
          "scatterpolar": [
           {
            "marker": {
             "colorbar": {
              "outlinewidth": 0,
              "ticks": ""
             }
            },
            "type": "scatterpolar"
           }
          ],
          "scatterpolargl": [
           {
            "marker": {
             "colorbar": {
              "outlinewidth": 0,
              "ticks": ""
             }
            },
            "type": "scatterpolargl"
           }
          ],
          "scatterternary": [
           {
            "marker": {
             "colorbar": {
              "outlinewidth": 0,
              "ticks": ""
             }
            },
            "type": "scatterternary"
           }
          ],
          "surface": [
           {
            "colorbar": {
             "outlinewidth": 0,
             "ticks": ""
            },
            "colorscale": [
             [
              0,
              "#0d0887"
             ],
             [
              0.1111111111111111,
              "#46039f"
             ],
             [
              0.2222222222222222,
              "#7201a8"
             ],
             [
              0.3333333333333333,
              "#9c179e"
             ],
             [
              0.4444444444444444,
              "#bd3786"
             ],
             [
              0.5555555555555556,
              "#d8576b"
             ],
             [
              0.6666666666666666,
              "#ed7953"
             ],
             [
              0.7777777777777778,
              "#fb9f3a"
             ],
             [
              0.8888888888888888,
              "#fdca26"
             ],
             [
              1,
              "#f0f921"
             ]
            ],
            "type": "surface"
           }
          ],
          "table": [
           {
            "cells": {
             "fill": {
              "color": "#EBF0F8"
             },
             "line": {
              "color": "white"
             }
            },
            "header": {
             "fill": {
              "color": "#C8D4E3"
             },
             "line": {
              "color": "white"
             }
            },
            "type": "table"
           }
          ]
         },
         "layout": {
          "annotationdefaults": {
           "arrowcolor": "#2a3f5f",
           "arrowhead": 0,
           "arrowwidth": 1
          },
          "autotypenumbers": "strict",
          "coloraxis": {
           "colorbar": {
            "outlinewidth": 0,
            "ticks": ""
           }
          },
          "colorscale": {
           "diverging": [
            [
             0,
             "#8e0152"
            ],
            [
             0.1,
             "#c51b7d"
            ],
            [
             0.2,
             "#de77ae"
            ],
            [
             0.3,
             "#f1b6da"
            ],
            [
             0.4,
             "#fde0ef"
            ],
            [
             0.5,
             "#f7f7f7"
            ],
            [
             0.6,
             "#e6f5d0"
            ],
            [
             0.7,
             "#b8e186"
            ],
            [
             0.8,
             "#7fbc41"
            ],
            [
             0.9,
             "#4d9221"
            ],
            [
             1,
             "#276419"
            ]
           ],
           "sequential": [
            [
             0,
             "#0d0887"
            ],
            [
             0.1111111111111111,
             "#46039f"
            ],
            [
             0.2222222222222222,
             "#7201a8"
            ],
            [
             0.3333333333333333,
             "#9c179e"
            ],
            [
             0.4444444444444444,
             "#bd3786"
            ],
            [
             0.5555555555555556,
             "#d8576b"
            ],
            [
             0.6666666666666666,
             "#ed7953"
            ],
            [
             0.7777777777777778,
             "#fb9f3a"
            ],
            [
             0.8888888888888888,
             "#fdca26"
            ],
            [
             1,
             "#f0f921"
            ]
           ],
           "sequentialminus": [
            [
             0,
             "#0d0887"
            ],
            [
             0.1111111111111111,
             "#46039f"
            ],
            [
             0.2222222222222222,
             "#7201a8"
            ],
            [
             0.3333333333333333,
             "#9c179e"
            ],
            [
             0.4444444444444444,
             "#bd3786"
            ],
            [
             0.5555555555555556,
             "#d8576b"
            ],
            [
             0.6666666666666666,
             "#ed7953"
            ],
            [
             0.7777777777777778,
             "#fb9f3a"
            ],
            [
             0.8888888888888888,
             "#fdca26"
            ],
            [
             1,
             "#f0f921"
            ]
           ]
          },
          "colorway": [
           "#636efa",
           "#EF553B",
           "#00cc96",
           "#ab63fa",
           "#FFA15A",
           "#19d3f3",
           "#FF6692",
           "#B6E880",
           "#FF97FF",
           "#FECB52"
          ],
          "font": {
           "color": "#2a3f5f"
          },
          "geo": {
           "bgcolor": "white",
           "lakecolor": "white",
           "landcolor": "#E5ECF6",
           "showlakes": true,
           "showland": true,
           "subunitcolor": "white"
          },
          "hoverlabel": {
           "align": "left"
          },
          "hovermode": "closest",
          "mapbox": {
           "style": "light"
          },
          "paper_bgcolor": "white",
          "plot_bgcolor": "#E5ECF6",
          "polar": {
           "angularaxis": {
            "gridcolor": "white",
            "linecolor": "white",
            "ticks": ""
           },
           "bgcolor": "#E5ECF6",
           "radialaxis": {
            "gridcolor": "white",
            "linecolor": "white",
            "ticks": ""
           }
          },
          "scene": {
           "xaxis": {
            "backgroundcolor": "#E5ECF6",
            "gridcolor": "white",
            "gridwidth": 2,
            "linecolor": "white",
            "showbackground": true,
            "ticks": "",
            "zerolinecolor": "white"
           },
           "yaxis": {
            "backgroundcolor": "#E5ECF6",
            "gridcolor": "white",
            "gridwidth": 2,
            "linecolor": "white",
            "showbackground": true,
            "ticks": "",
            "zerolinecolor": "white"
           },
           "zaxis": {
            "backgroundcolor": "#E5ECF6",
            "gridcolor": "white",
            "gridwidth": 2,
            "linecolor": "white",
            "showbackground": true,
            "ticks": "",
            "zerolinecolor": "white"
           }
          },
          "shapedefaults": {
           "line": {
            "color": "#2a3f5f"
           }
          },
          "ternary": {
           "aaxis": {
            "gridcolor": "white",
            "linecolor": "white",
            "ticks": ""
           },
           "baxis": {
            "gridcolor": "white",
            "linecolor": "white",
            "ticks": ""
           },
           "bgcolor": "#E5ECF6",
           "caxis": {
            "gridcolor": "white",
            "linecolor": "white",
            "ticks": ""
           }
          },
          "title": {
           "x": 0.05
          },
          "xaxis": {
           "automargin": true,
           "gridcolor": "white",
           "linecolor": "white",
           "ticks": "",
           "title": {
            "standoff": 15
           },
           "zerolinecolor": "white",
           "zerolinewidth": 2
          },
          "yaxis": {
           "automargin": true,
           "gridcolor": "white",
           "linecolor": "white",
           "ticks": "",
           "title": {
            "standoff": 15
           },
           "zerolinecolor": "white",
           "zerolinewidth": 2
          }
         }
        },
        "xaxis": {
         "anchor": "y",
         "domain": [
          0,
          1
         ],
         "title": {
          "text": "RecencyMean"
         }
        },
        "yaxis": {
         "anchor": "x",
         "domain": [
          0,
          1
         ],
         "title": {
          "text": "MonetaryMean"
         }
        }
       }
      }
     },
     "metadata": {},
     "output_type": "display_data"
    },
    {
     "data": {
      "text/plain": [
       "<Figure size 640x480 with 0 Axes>"
      ]
     },
     "metadata": {},
     "output_type": "display_data"
    }
   ],
   "source": [
    "import plotly.express as px\n",
    "\n",
    "fig = px.scatter(rfm_agg_pd2, x=\"RecencyMean\", y=\"MonetaryMean\", size=\"FrequencyMean\", color=\"prediction\",\n",
    "           hover_name=\"prediction\", size_max = 60) \n",
    "\n",
    "plt.savefig('outputs/Kmeans Unsupervised Segments Scatter (Pyspark).png')\n",
    "fig.show()"
   ]
  },
  {
   "cell_type": "markdown",
   "metadata": {},
   "source": [
    "#### Trực quan hóa với biểu đồ 3 chiều"
   ]
  },
  {
   "cell_type": "code",
   "execution_count": 75,
   "metadata": {},
   "outputs": [
    {
     "data": {
      "image/png": "[encoded data removed]",
      "text/plain": [
       "<Figure size 1000x700 with 2 Axes>"
      ]
     },
     "metadata": {},
     "output_type": "display_data"
    }
   ],
   "source": [
    "fig = plt.figure(figsize=(10, 7))\n",
    "ax = fig.add_subplot(111, projection='3d')\n",
    "\n",
    "scatter = ax.scatter(pandas_df[\"Recency\"], pandas_df[\"Frequency\"], pandas_df[\"Monetary\"], \n",
    "                     c=pandas_df[\"prediction\"], cmap=\"viridis\", s=50)\n",
    "\n",
    "ax.set_title(\"Customer Segments (3D)\", fontsize=16)\n",
    "ax.set_xlabel(\"Recency\", fontsize=12)\n",
    "ax.set_ylabel(\"Frequency\", fontsize=12)\n",
    "ax.set_zlabel(\"Monetary\", fontsize=12)\n",
    "\n",
    "plt.colorbar(scatter, ax=ax, label=\"Cluster\")\n",
    "plt.savefig('outputs/Kmeans Unsupervised Segments Scatter 3D (Pyspark).png')\n",
    "plt.show()"
   ]
  }
 ],
 "metadata": {
  "kernelspec": {
   "display_name": "Python 3",
   "language": "python",
   "name": "python3"
  },
  "language_info": {
   "codemirror_mode": {
    "name": "ipython",
    "version": 3
   },
   "file_extension": ".py",
   "mimetype": "text/x-python",
   "name": "python",
   "nbconvert_exporter": "python",
   "pygments_lexer": "ipython3",
   "version": "3.11.5"
  }
 },
 "nbformat": 4,
 "nbformat_minor": 2
}
