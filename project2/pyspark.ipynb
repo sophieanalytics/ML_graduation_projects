{
 "cells": [
  {
   "cell_type": "code",
   "execution_count": 2,
   "metadata": {},
   "outputs": [
    {
     "name": "stderr",
     "output_type": "stream",
     "text": [
      "Setting default log level to \"WARN\".\n",
      "To adjust logging level use sc.setLogLevel(newLevel). For SparkR, use setLogLevel(newLevel).\n",
      "25/04/04 20:13:30 WARN NativeCodeLoader: Unable to load native-hadoop library for your platform... using builtin-java classes where applicable\n"
     ]
    },
    {
     "data": {
      "text/html": [
       "\n",
       "            <div>\n",
       "                <p><b>SparkSession - in-memory</b></p>\n",
       "                \n",
       "        <div>\n",
       "            <p><b>SparkContext</b></p>\n",
       "\n",
       "            <p><a href=\"http://192.168.1.7:4040\">Spark UI</a></p>\n",
       "\n",
       "            <dl>\n",
       "              <dt>Version</dt>\n",
       "                <dd><code>v3.5.3</code></dd>\n",
       "              <dt>Master</dt>\n",
       "                <dd><code>local</code></dd>\n",
       "              <dt>AppName</dt>\n",
       "                <dd><code>New Spark Context</code></dd>\n",
       "            </dl>\n",
       "        </div>\n",
       "        \n",
       "            </div>\n",
       "        "
      ],
      "text/plain": [
       "<pyspark.sql.session.SparkSession at 0x10cbbd9d0>"
      ]
     },
     "execution_count": 2,
     "metadata": {},
     "output_type": "execute_result"
    }
   ],
   "source": [
    "import findspark\n",
    "findspark.init()\n",
    "\n",
    "from pyspark import SparkContext\n",
    "# truy xuất đến hdfs của cô\n",
    "SparkContext.setSystemProperty('spark.hadoop.dfs.client.use.datanode.hostname', 'true')\n",
    "\n",
    "# khởi tạo sparkcontext, mở chìa khoá\n",
    "# chạy ở máy cá nhân là local, sau này nếu có cái key/IP của máy master thì thay thế vào\n",
    "sc = SparkContext(master=\"local\", appName=\"New Spark Context\")\n",
    "\n",
    "from pyspark.sql import SparkSession\n",
    "spark = SparkSession(sc)\n",
    "spark"
   ]
  },
  {
   "cell_type": "code",
   "execution_count": 3,
   "metadata": {},
   "outputs": [],
   "source": [
    "from pyspark.ml.evaluation import RegressionEvaluator\n",
    "from pyspark.ml.recommendation import ALS\n",
    "from pyspark.sql.functions import col, explode"
   ]
  },
  {
   "cell_type": "code",
   "execution_count": 4,
   "metadata": {},
   "outputs": [
    {
     "name": "stderr",
     "output_type": "stream",
     "text": [
      "                                                                                \r"
     ]
    }
   ],
   "source": [
    "rating = spark.read.csv('rating.csv', inferSchema=True, header=True)"
   ]
  },
  {
   "cell_type": "code",
   "execution_count": 5,
   "metadata": {},
   "outputs": [
    {
     "name": "stdout",
     "output_type": "stream",
     "text": [
      "+----------+-------+------+\n",
      "|product_id|user_id|rating|\n",
      "+----------+-------+------+\n",
      "|       190|      1|     5|\n",
      "|       190|      2|     5|\n",
      "|       190|      3|     5|\n",
      "|       190|      4|     5|\n",
      "|       190|      5|     5|\n",
      "+----------+-------+------+\n",
      "only showing top 5 rows\n",
      "\n"
     ]
    }
   ],
   "source": [
    "rating.show(5)"
   ]
  },
  {
   "cell_type": "code",
   "execution_count": 6,
   "metadata": {},
   "outputs": [
    {
     "name": "stderr",
     "output_type": "stream",
     "text": [
      "                                                                                \r"
     ]
    }
   ],
   "source": [
    "users = rating.select('user_id').distinct().count()\n",
    "products = rating.select('product_id').distinct().count()\n",
    "numerator = rating.count()"
   ]
  },
  {
   "cell_type": "code",
   "execution_count": 7,
   "metadata": {},
   "outputs": [
    {
     "data": {
      "text/plain": [
       "999815"
      ]
     },
     "metadata": {},
     "output_type": "display_data"
    },
    {
     "data": {
      "text/plain": [
       "650636"
      ]
     },
     "metadata": {},
     "output_type": "display_data"
    },
    {
     "data": {
      "text/plain": [
       "31267"
      ]
     },
     "metadata": {},
     "output_type": "display_data"
    }
   ],
   "source": [
    "display(numerator, users, products)"
   ]
  },
  {
   "cell_type": "code",
   "execution_count": 8,
   "metadata": {},
   "outputs": [
    {
     "data": {
      "text/plain": [
       "20343435812"
      ]
     },
     "execution_count": 8,
     "metadata": {},
     "output_type": "execute_result"
    }
   ],
   "source": [
    "denominator = users * products \n",
    "denominator"
   ]
  },
  {
   "cell_type": "code",
   "execution_count": 9,
   "metadata": {},
   "outputs": [
    {
     "name": "stdout",
     "output_type": "stream",
     "text": [
      "sparsity:  0.9999508531887514\n"
     ]
    }
   ],
   "source": [
    "sparsity = 1 - (numerator*1.0/ denominator)\n",
    "print('sparsity: ', sparsity)"
   ]
  },
  {
   "cell_type": "code",
   "execution_count": 10,
   "metadata": {},
   "outputs": [],
   "source": [
    "# split data set to train & test \n",
    "(training, test) = rating.randomSplit([0.8,0.2])"
   ]
  },
  {
   "cell_type": "markdown",
   "metadata": {},
   "source": [
    "# Build model"
   ]
  },
  {
   "cell_type": "code",
   "execution_count": 11,
   "metadata": {},
   "outputs": [
    {
     "name": "stderr",
     "output_type": "stream",
     "text": [
      "25/04/04 20:13:41 WARN InstanceBuilder: Failed to load implementation from:dev.ludovic.netlib.blas.JNIBLAS\n",
      "25/04/04 20:13:41 WARN InstanceBuilder: Failed to load implementation from:dev.ludovic.netlib.blas.VectorBLAS\n",
      "25/04/04 20:13:49 WARN GarbageCollectionMetrics: To enable non-built-in garbage collector(s) List(G1 Concurrent GC), users should configure it(them) to spark.eventLog.gcMetrics.youngGenerationGarbageCollectors or spark.eventLog.gcMetrics.oldGenerationGarbageCollectors\n",
      "                                                                                \r"
     ]
    },
    {
     "name": "stdout",
     "output_type": "stream",
     "text": [
      "reg=0.01, iter=10 -> RMSE: 1.7226\n"
     ]
    },
    {
     "name": "stderr",
     "output_type": "stream",
     "text": [
      "                                                                                \r"
     ]
    },
    {
     "name": "stdout",
     "output_type": "stream",
     "text": [
      "reg=0.01, iter=15 -> RMSE: 1.6086\n"
     ]
    },
    {
     "name": "stderr",
     "output_type": "stream",
     "text": [
      "                                                                                \r"
     ]
    },
    {
     "name": "stdout",
     "output_type": "stream",
     "text": [
      "reg=0.01, iter=20 -> RMSE: 1.5237\n"
     ]
    },
    {
     "name": "stderr",
     "output_type": "stream",
     "text": [
      "                                                                                \r"
     ]
    },
    {
     "name": "stdout",
     "output_type": "stream",
     "text": [
      "reg=0.05, iter=10 -> RMSE: 1.3654\n"
     ]
    },
    {
     "name": "stderr",
     "output_type": "stream",
     "text": [
      "                                                                                \r"
     ]
    },
    {
     "name": "stdout",
     "output_type": "stream",
     "text": [
      "reg=0.05, iter=15 -> RMSE: 1.2705\n"
     ]
    },
    {
     "name": "stderr",
     "output_type": "stream",
     "text": [
      "                                                                                \r"
     ]
    },
    {
     "name": "stdout",
     "output_type": "stream",
     "text": [
      "reg=0.05, iter=20 -> RMSE: 1.2252\n"
     ]
    },
    {
     "name": "stderr",
     "output_type": "stream",
     "text": [
      "                                                                                \r"
     ]
    },
    {
     "name": "stdout",
     "output_type": "stream",
     "text": [
      "reg=0.1, iter=10 -> RMSE: 1.2216\n"
     ]
    },
    {
     "name": "stderr",
     "output_type": "stream",
     "text": [
      "                                                                                \r"
     ]
    },
    {
     "name": "stdout",
     "output_type": "stream",
     "text": [
      "reg=0.1, iter=15 -> RMSE: 1.1573\n"
     ]
    },
    {
     "name": "stderr",
     "output_type": "stream",
     "text": [
      "[Stage 1341:===========================>                           (5 + 1) / 10]\r"
     ]
    },
    {
     "name": "stdout",
     "output_type": "stream",
     "text": [
      "reg=0.1, iter=20 -> RMSE: 1.1397\n",
      "✅ Best Model Params: {'regParam': 0.1, 'maxIter': 20}\n",
      "⭐ Best RMSE: 1.1397355291734246\n"
     ]
    },
    {
     "name": "stderr",
     "output_type": "stream",
     "text": [
      "                                                                                \r"
     ]
    }
   ],
   "source": [
    "# Define parameter grid\n",
    "regParams = [0.01, 0.05, 0.1]\n",
    "maxIters = [10, 15, 20]\n",
    "\n",
    "best_rmse = float(\"inf\")\n",
    "best_model = None\n",
    "best_params = {}\n",
    "results = []\n",
    "\n",
    "evaluator = RegressionEvaluator(\n",
    "    metricName = 'rmse',\n",
    "    labelCol='rating',\n",
    "    predictionCol='prediction'\n",
    ")\n",
    "\n",
    "for reg in regParams:\n",
    "    for iter_ in maxIters:\n",
    "        als = ALS(\n",
    "            maxIter=iter_,\n",
    "            regParam=reg,\n",
    "            userCol='user_id',\n",
    "            itemCol='product_id',\n",
    "            ratingCol='rating',\n",
    "            coldStartStrategy='drop',\n",
    "            nonnegative=True\n",
    "        )\n",
    "        model = als.fit(training)\n",
    "        predictions = model.transform(test)\n",
    "        rmse = evaluator.evaluate(predictions)\n",
    "        print(f\"reg={reg}, iter={iter_} -> RMSE: {rmse:.4f}\")\n",
    "        \n",
    "            # Append to result table\n",
    "        results.append({\n",
    "            'regParam': reg,\n",
    "            'maxIter': iter_,\n",
    "            'rmse': rmse\n",
    "        })\n",
    "                    \n",
    "        if rmse < best_rmse:\n",
    "            best_rmse = rmse\n",
    "            best_model = model\n",
    "            best_params = {'regParam': reg, 'maxIter': iter_}\n",
    "\n",
    "print(\"✅ Best Model Params:\", best_params)\n",
    "print(\"⭐ Best RMSE:\", best_rmse)\n"
   ]
  },
  {
   "cell_type": "code",
   "execution_count": 12,
   "metadata": {},
   "outputs": [
    {
     "name": "stderr",
     "output_type": "stream",
     "text": [
      "                                                                                \r"
     ]
    }
   ],
   "source": [
    "from pyspark.ml.evaluation import RegressionEvaluator\n",
    "from pyspark.ml.recommendation import ALS \n",
    "\n",
    "als = ALS(\n",
    "    maxIter = 20,\n",
    "    regParam = 0.1,\n",
    "    userCol = 'user_id',\n",
    "    itemCol = 'product_id', \n",
    "    ratingCol='rating', \n",
    "    coldStartStrategy = 'drop',\n",
    "    nonnegative = True\n",
    ")\n",
    "\n",
    "model = als.fit(training)"
   ]
  },
  {
   "cell_type": "code",
   "execution_count": 13,
   "metadata": {},
   "outputs": [],
   "source": [
    "from pyspark.sql import Row\n",
    "from pyspark.sql.functions import format_number\n",
    "\n",
    "results_rows = [Row(**row) for row in results]\n",
    "results_df = spark.createDataFrame(results_rows)\n"
   ]
  },
  {
   "cell_type": "code",
   "execution_count": 14,
   "metadata": {},
   "outputs": [
    {
     "name": "stdout",
     "output_type": "stream",
     "text": [
      "+--------+-------+------------+\n",
      "|regParam|maxIter|rmse_rounded|\n",
      "+--------+-------+------------+\n",
      "|    0.01|     10|        1.72|\n",
      "|    0.01|     15|        1.61|\n",
      "|    0.01|     20|        1.52|\n",
      "|    0.05|     10|        1.37|\n",
      "|    0.05|     15|        1.27|\n",
      "|    0.05|     20|        1.23|\n",
      "|     0.1|     10|        1.22|\n",
      "|     0.1|     15|        1.16|\n",
      "|     0.1|     20|        1.14|\n",
      "+--------+-------+------------+\n",
      "\n"
     ]
    }
   ],
   "source": [
    "results_df.select(\n",
    "    \"regParam\", \"maxIter\",\n",
    "    format_number(\"rmse\", 2).alias(\"rmse_rounded\")\n",
    ").show()"
   ]
  },
  {
   "cell_type": "code",
   "execution_count": 15,
   "metadata": {},
   "outputs": [
    {
     "data": {
      "image/png": "[encoded data removed]",
      "text/plain": [
       "<Figure size 800x500 with 1 Axes>"
      ]
     },
     "metadata": {},
     "output_type": "display_data"
    }
   ],
   "source": [
    "import matplotlib.pyplot as plt\n",
    "# Organize data for plotting\n",
    "plt.figure(figsize=(8, 5))\n",
    "for reg in sorted(set(d['regParam'] for d in results)):\n",
    "    x = [d['maxIter'] for d in results if d['regParam'] == reg]\n",
    "    y = [d['rmse'] for d in results if d['regParam'] == reg]\n",
    "    plt.plot(x, y, marker='o', label=f\"regParam = {reg}\")\n",
    "\n",
    "# Plot config\n",
    "plt.xlabel(\"maxIter\")\n",
    "plt.ylabel(\"RMSE\")\n",
    "plt.title(\"RMSE vs maxIter for each regParam (from results list)\")\n",
    "plt.legend()\n",
    "plt.grid(True)\n",
    "plt.tight_layout()\n",
    "plt.show()"
   ]
  },
  {
   "cell_type": "code",
   "execution_count": 16,
   "metadata": {},
   "outputs": [],
   "source": [
    "evaluator = RegressionEvaluator(\n",
    "    metricName = 'rmse',\n",
    "    labelCol='rating',\n",
    "    predictionCol='prediction'\n",
    ")"
   ]
  },
  {
   "cell_type": "code",
   "execution_count": 17,
   "metadata": {},
   "outputs": [],
   "source": [
    "predictions = model.transform(test)"
   ]
  },
  {
   "cell_type": "code",
   "execution_count": 18,
   "metadata": {},
   "outputs": [
    {
     "name": "stderr",
     "output_type": "stream",
     "text": [
      "[Stage 1535:============================================>          (8 + 1) / 10]\r"
     ]
    },
    {
     "name": "stdout",
     "output_type": "stream",
     "text": [
      "+----------+-------+------+----------+\n",
      "|product_id|user_id|rating|prediction|\n",
      "+----------+-------+------+----------+\n",
      "|      1088|     30|     5| 4.7939024|\n",
      "|     18944|     33|     5| 4.6028614|\n",
      "|     21220|     33|     5| 3.0838447|\n",
      "|     23271|     33|     5|  4.917372|\n",
      "|    171006|     33|     5|  4.716707|\n",
      "+----------+-------+------+----------+\n",
      "only showing top 5 rows\n",
      "\n"
     ]
    },
    {
     "name": "stderr",
     "output_type": "stream",
     "text": [
      "                                                                                \r"
     ]
    }
   ],
   "source": [
    "predictions.show(5)"
   ]
  },
  {
   "cell_type": "code",
   "execution_count": 19,
   "metadata": {},
   "outputs": [
    {
     "name": "stderr",
     "output_type": "stream",
     "text": [
      "[Stage 1634:============================================>          (8 + 1) / 10]\r"
     ]
    },
    {
     "name": "stdout",
     "output_type": "stream",
     "text": [
      "+---------------+\n",
      "|max(prediction)|\n",
      "+---------------+\n",
      "|       6.481843|\n",
      "+---------------+\n",
      "\n"
     ]
    },
    {
     "name": "stderr",
     "output_type": "stream",
     "text": [
      "                                                                                \r"
     ]
    }
   ],
   "source": [
    "from pyspark.sql.functions import max\n",
    "predictions.select(max('prediction')).show()"
   ]
  },
  {
   "cell_type": "code",
   "execution_count": 20,
   "metadata": {},
   "outputs": [
    {
     "name": "stderr",
     "output_type": "stream",
     "text": [
      "                                                                                \r"
     ]
    },
    {
     "name": "stdout",
     "output_type": "stream",
     "text": [
      "Root mean square error 1.1397355291734246\n"
     ]
    }
   ],
   "source": [
    "evaluator = RegressionEvaluator(\n",
    "    metricName = 'rmse',\n",
    "    labelCol='rating',\n",
    "    predictionCol='prediction'\n",
    ")\n",
    "rmse = evaluator.evaluate(predictions)\n",
    "print('Root mean square error', str(rmse))"
   ]
  },
  {
   "cell_type": "code",
   "execution_count": 21,
   "metadata": {},
   "outputs": [],
   "source": [
    "# recommend 10 best items (products) for each user\n",
    "user_recs = model.recommendForAllUsers(10)"
   ]
  },
  {
   "cell_type": "code",
   "execution_count": 22,
   "metadata": {},
   "outputs": [
    {
     "name": "stdout",
     "output_type": "stream",
     "text": [
      "root\n",
      " |-- user_id: integer (nullable = false)\n",
      " |-- recommendations: array (nullable = true)\n",
      " |    |-- element: struct (containsNull = true)\n",
      " |    |    |-- product_id: integer (nullable = true)\n",
      " |    |    |-- rating: float (nullable = true)\n",
      "\n"
     ]
    }
   ],
   "source": [
    "user_recs.printSchema()"
   ]
  },
  {
   "cell_type": "code",
   "execution_count": 23,
   "metadata": {},
   "outputs": [
    {
     "name": "stderr",
     "output_type": "stream",
     "text": [
      "[Stage 1878:====================================================>(99 + 1) / 100]\r"
     ]
    },
    {
     "name": "stdout",
     "output_type": "stream",
     "text": [
      "+-------+-------------------------------------------------------------------------------------------------------------------------------------------------------------------------------------------------------------+\n",
      "|user_id|recommendations                                                                                                                                                                                              |\n",
      "+-------+-------------------------------------------------------------------------------------------------------------------------------------------------------------------------------------------------------------+\n",
      "|26     |[{172806, 3.133127}, {22443, 3.094326}, {21899, 3.0716488}, {164712, 3.0410953}, {16110, 2.9961257}, {233887, 2.9952083}, {22261, 2.9930468}, {241046, 2.9912846}, {111231, 2.989623}, {173969, 2.9830613}]  |\n",
      "|27     |[{101093, 5.9157495}, {12461, 5.902672}, {172333, 5.8176746}, {233729, 5.715339}, {121355, 5.713888}, {174430, 5.6960406}, {141453, 5.6770177}, {172600, 5.6423817}, {24278, 5.6408877}, {24974, 5.6383047}] |\n",
      "|28     |[{173354, 6.1628966}, {11615, 6.096255}, {12461, 6.09197}, {163486, 6.087172}, {172599, 6.072616}, {173502, 6.0632215}, {172333, 6.0548625}, {242159, 6.0538783}, {11466, 6.047082}, {171054, 5.9996796}]    |\n",
      "|31     |[{251445, 6.0165997}, {10634, 5.9940867}, {26104, 5.988865}, {172811, 5.914107}, {11758, 5.885123}, {26181, 5.8649597}, {111620, 5.829629}, {174597, 5.801765}, {173317, 5.7896314}, {211231, 5.77643}]      |\n",
      "|34     |[{11615, 6.3764553}, {173502, 6.356378}, {251211, 6.3464465}, {242159, 6.3242807}, {12461, 6.3080435}, {173354, 6.304678}, {172333, 6.293774}, {163486, 6.2824817}, {14982, 6.279515}, {174339, 6.2665715}]  |\n",
      "|44     |[{163486, 5.915026}, {101093, 5.7296863}, {174287, 5.682384}, {19557, 5.6677985}, {173969, 5.6449814}, {141315, 5.6415443}, {123957, 5.618445}, {174248, 5.5945687}, {14982, 5.5586805}, {151344, 5.5375066}]|\n",
      "|53     |[{22443, 6.3633366}, {11717, 6.1760178}, {123296, 6.1288958}, {234326, 6.103242}, {121109, 6.040357}, {151208, 6.0382643}, {173093, 5.9708047}, {2367, 5.954451}, {234536, 5.922272}, {15606, 5.899614}]     |\n",
      "|65     |[{10522, 5.8840294}, {161045, 5.801102}, {191197, 5.764883}, {233590, 5.754445}, {111595, 5.7307563}, {172599, 5.6904306}, {124054, 5.6721106}, {24807, 5.642654}, {174704, 5.621249}, {19259, 5.620471}]    |\n",
      "|76     |[{10538, 6.0513525}, {11614, 6.031648}, {10817, 5.9842663}, {172599, 5.9541483}, {173422, 5.9089637}, {141246, 5.856766}, {19714, 5.8554745}, {211084, 5.852331}, {231274, 5.8466043}, {174595, 5.84199}]    |\n",
      "|78     |[{101093, 4.7326}, {12461, 4.722138}, {172333, 4.65414}, {233729, 4.572271}, {121355, 4.5711107}, {174430, 4.5568323}, {141453, 4.5416145}, {172600, 4.513905}, {24278, 4.5127106}, {24974, 4.510644}]       |\n",
      "+-------+-------------------------------------------------------------------------------------------------------------------------------------------------------------------------------------------------------------+\n",
      "only showing top 10 rows\n",
      "\n"
     ]
    },
    {
     "name": "stderr",
     "output_type": "stream",
     "text": [
      "                                                                                \r"
     ]
    }
   ],
   "source": [
    "user_recs.show(10, truncate=False)"
   ]
  },
  {
   "cell_type": "code",
   "execution_count": 24,
   "metadata": {},
   "outputs": [
    {
     "name": "stderr",
     "output_type": "stream",
     "text": [
      "                                                                                \r"
     ]
    }
   ],
   "source": [
    "product_df = spark.read \\\n",
    "    .option(\"header\", True) \\\n",
    "    .option(\"multiline\", True) \\\n",
    "    .option(\"quote\", '\"') \\\n",
    "    .option(\"escape\", '\"') \\\n",
    "    .option(\"inferSchema\", True) \\\n",
    "    .csv(\"cung_cap_HV/Products_ThoiTrangNam_raw.csv\")\n"
   ]
  },
  {
   "cell_type": "code",
   "execution_count": 25,
   "metadata": {},
   "outputs": [
    {
     "name": "stdout",
     "output_type": "stream",
     "text": [
      "+----------+--------------------+--------------+------------+--------------------+--------------------+-------+------+--------------------+\n",
      "|product_id|        product_name|      category|sub_category|                link|               image|  price|rating|         description|\n",
      "+----------+--------------------+--------------+------------+--------------------+--------------------+-------+------+--------------------+\n",
      "|       190|Áo ba lỗ thun gân...|Thời Trang Nam|    Áo Ba Lỗ|https://shopee.vn...|https://cf.shopee...|86250.0|   4.9|Danh Mục\\nShopee\\...|\n",
      "|       191|Áo Ba Lỗ Nam Trắn...|Thời Trang Nam|    Áo Ba Lỗ|https://shopee.vn...|https://cf.shopee...|26800.0|   4.9|Danh Mục\\nShopee\\...|\n",
      "|       192|Áo Ba Lỗ Nam Tyas...|Thời Trang Nam|    Áo Ba Lỗ|https://shopee.vn...|https://cf.shopee...|39500.0|   4.8|Danh Mục\\nShopee\\...|\n",
      "|       193|ÁO BA LỖ HÀNG VIỆ...|Thời Trang Nam|    Áo Ba Lỗ|https://shopee.vn...|https://cf.shopee...|16500.0|   4.8|Danh Mục\\nShopee\\...|\n",
      "|       194|Áo Thun Nam Thể T...|Thời Trang Nam|    Áo Ba Lỗ|https://shopee.vn...|                NULL|45000.0|   4.8|Danh Mục\\nShopee\\...|\n",
      "+----------+--------------------+--------------+------------+--------------------+--------------------+-------+------+--------------------+\n",
      "only showing top 5 rows\n",
      "\n"
     ]
    }
   ],
   "source": [
    "product_df.show(5)"
   ]
  },
  {
   "cell_type": "code",
   "execution_count": 26,
   "metadata": {},
   "outputs": [
    {
     "name": "stderr",
     "output_type": "stream",
     "text": [
      "                                                                                \r"
     ]
    },
    {
     "name": "stdout",
     "output_type": "stream",
     "text": [
      "+-------+----------+-----------------------------------------------------------------------------------------------------------------------+-----------------------+----------------+\n",
      "|user_id|product_id|product_name                                                                                                           |sub_category           |predicted_rating|\n",
      "+-------+----------+-----------------------------------------------------------------------------------------------------------------------+-----------------------+----------------+\n",
      "|27     |233729    |Sét áo và chân váy nữ dự tiệc cúc họa mi trắng áo kiểu Croptop có mút ngực tay bo thun phối chân váy xếp tầng dễ thương|Đồ Bộ                  |5.715339        |\n",
      "|26     |22443     |Áo cardigan loang màu / Cardigan tiedye BMO unisex                                                                     |Áo Vest và Blazer      |3.094326        |\n",
      "|27     |141453    |QUẦN LỬNG BERMUDA LIDER JESSE DENIM SHORTS                                                                             |Quần Jeans             |5.6770177       |\n",
      "|26     |233887    |[ Hà Nội ] Quần Áo Đôi Đi Biển - Giá Hủy Diệt                                                                          |Đồ Bộ                  |2.9952083       |\n",
      "|27     |101093    |Cà vạt nam 8cm bản to giá siêu rẻ, cravat công sở, trung niên, cavat phong cách chững chạc                             |Cà vạt & Nơ cổ         |5.9157495       |\n",
      "|27     |12461     |Kính mát nam BMW-GV thời trang cao cấp ,full box, tròng Polazied, chống lóa , chống tia UV cực tốt                     |Kính Mắt Nam           |5.902672        |\n",
      "|27     |172333    |Bodysiut cho bé trai bé gái dài tay tam giác và có tất đáng yêu Nga Fish BD-NE                                         |Vớ/Tất                 |5.8176746       |\n",
      "|26     |241046    |Bộ quần áo trung niên cho ông, cho bố (ME224)                                                                          |Đồ Hóa Trang           |2.9912846       |\n",
      "|26     |21899     |Áo Khoác Gió 2 Lớp Unisex Cao Cấp Chống Nước, Cản Tia UV, Chắn Gió                                                     |Áo Khoác               |3.0716488       |\n",
      "|27     |174430    |Set 10 Đôi Tất/Vớ Cổ Dài Khử Mùi Thời Trang Cho Nam (Hàng Xịn Co Giãn Tốt) Hộp Đựng Như Hình                           |Vớ/Tất                 |5.6960406       |\n",
      "|27     |121355    |Mắt Kính mát nam màu đen thời trang                                                                                    |Kính Mắt Nam           |5.713888        |\n",
      "|26     |172806    |Vớ Miniso Nhật Bản cổ thấp, cổ cao, vớ hài                                                                             |Vớ/Tất                 |3.133127        |\n",
      "|27     |24974     |Mặt nạ hóa trang người nhện 3D chất liệu lycra độc đáo cho trẻ em/người lớn với dây kéo                                |Đồ Hóa Trang           |5.6383047       |\n",
      "|26     |164712    |Áo dài trung niên màu xanh                                                                                             |Trang Phục Truyền Thống|3.0410953       |\n",
      "|26     |22261     |Áo gile nam ôm body màu xanh đen sáng chất vải mềm mịn tặng nơ đen                                                     |Áo Vest và Blazer      |2.9930468       |\n",
      "|26     |173969    |SET 5 ĐÔI TẤT NAM CỔ NGẮN UQ CAO CẤP CHỐNG TỤT KHÁNG KHUẨN                                                             |Vớ/Tất                 |2.9830613       |\n",
      "|26     |111231    |Set 5 vòng tròn làm móc khóa gài cho túi xách DIY                                                                      |Khác                   |2.989623        |\n",
      "|26     |16110     |Bộ quần áo thể thao nam Kante Đồ bộ thể thao cao cấp kẻ sọc có khóa kéo 3 màu                                          |Trang Phục Truyền Thống|2.9961257       |\n",
      "|27     |172600    |[FREESHIP ĐƠN TỪ 50K] TẤT NAM - TẤT ONOFF -VN XUẤT KHẨU                                                                |Vớ/Tất                 |5.6423817       |\n",
      "|27     |24278     |Bộ áo liền quần hóa trang nhân vật Người Nhện in họa tiết 3D độc đáo thời trang                                        |Đồ Hóa Trang           |5.6408877       |\n",
      "+-------+----------+-----------------------------------------------------------------------------------------------------------------------+-----------------------+----------------+\n",
      "only showing top 20 rows\n",
      "\n"
     ]
    }
   ],
   "source": [
    "from pyspark.sql.functions import explode, col\n",
    "\n",
    "# Step 1: Explode recommendations (array of struct → rows)\n",
    "exploded_recs = user_recs.select(\n",
    "    col(\"user_id\"),\n",
    "    explode(\"recommendations\").alias(\"rec\")\n",
    ").select(\n",
    "    col(\"user_id\"),\n",
    "    col(\"rec.product_id\").alias(\"product_id\"),\n",
    "    col(\"rec.rating\").alias(\"predicted_rating\")\n",
    ")\n",
    "\n",
    "# Step 2: Join with product_df to get product names\n",
    "recs_with_names = exploded_recs.join(\n",
    "    product_df.select(\"product_id\", \"product_name\", \"sub_category\"), on=\"product_id\", how=\"left\"\n",
    ")\n",
    "\n",
    "# Step 3: Show results\n",
    "recs_with_names.select(\"user_id\", \"product_id\", \"product_name\", \"sub_category\", \"predicted_rating\").show(truncate=False)\n"
   ]
  },
  {
   "cell_type": "code",
   "execution_count": null,
   "metadata": {},
   "outputs": [
    {
     "name": "stderr",
     "output_type": "stream",
     "text": [
      "[Stage 2154:==============> (8 + 1) / 9][Stage 2156:>               (0 + 0) / 1]\r"
     ]
    },
    {
     "name": "stdout",
     "output_type": "stream",
     "text": [
      "+-------+----------+-----------------------------------------------------------------------------------------------------------------------+--------------+----------------+\n",
      "|user_id|product_id|product_name                                                                                                           |sub_category  |predicted_rating|\n",
      "+-------+----------+-----------------------------------------------------------------------------------------------------------------------+--------------+----------------+\n",
      "|45     |101093    |Cà vạt nam 8cm bản to giá siêu rẻ, cravat công sở, trung niên, cavat phong cách chững chạc                             |Cà vạt & Nơ cổ|5.9157495       |\n",
      "|45     |12461     |Kính mát nam BMW-GV thời trang cao cấp ,full box, tròng Polazied, chống lóa , chống tia UV cực tốt                     |Kính Mắt Nam  |5.902672        |\n",
      "|45     |172333    |Bodysiut cho bé trai bé gái dài tay tam giác và có tất đáng yêu Nga Fish BD-NE                                         |Vớ/Tất        |5.8176746       |\n",
      "|45     |233729    |Sét áo và chân váy nữ dự tiệc cúc họa mi trắng áo kiểu Croptop có mút ngực tay bo thun phối chân váy xếp tầng dễ thương|Đồ Bộ         |5.715339        |\n",
      "|45     |121355    |Mắt Kính mát nam màu đen thời trang                                                                                    |Kính Mắt Nam  |5.713888        |\n",
      "|45     |174430    |Set 10 Đôi Tất/Vớ Cổ Dài Khử Mùi Thời Trang Cho Nam (Hàng Xịn Co Giãn Tốt) Hộp Đựng Như Hình                           |Vớ/Tất        |5.6960406       |\n",
      "|45     |141453    |QUẦN LỬNG BERMUDA LIDER JESSE DENIM SHORTS                                                                             |Quần Jeans    |5.6770177       |\n",
      "|45     |172600    |[FREESHIP ĐƠN TỪ 50K] TẤT NAM - TẤT ONOFF -VN XUẤT KHẨU                                                                |Vớ/Tất        |5.6423817       |\n",
      "|45     |24278     |Bộ áo liền quần hóa trang nhân vật Người Nhện in họa tiết 3D độc đáo thời trang                                        |Đồ Hóa Trang  |5.6408877       |\n",
      "|45     |24974     |Mặt nạ hóa trang người nhện 3D chất liệu lycra độc đáo cho trẻ em/người lớn với dây kéo                                |Đồ Hóa Trang  |5.6383047       |\n",
      "+-------+----------+-----------------------------------------------------------------------------------------------------------------------+--------------+----------------+\n",
      "\n"
     ]
    },
    {
     "name": "stderr",
     "output_type": "stream",
     "text": [
      "                                                                                \r"
     ]
    }
   ],
   "source": [
    "recs_with_names.filter(\"user_id = 45\") \\\n",
    "    .orderBy(\"predicted_rating\", ascending=False) \\\n",
    "    .select(\"user_id\", \"product_id\", \"product_name\",'sub_category', \"predicted_rating\") \\\n",
    "    .show(10, truncate=False)\n",
    "\n"
   ]
  },
  {
   "cell_type": "code",
   "execution_count": 28,
   "metadata": {},
   "outputs": [
    {
     "name": "stderr",
     "output_type": "stream",
     "text": [
      "[Stage 2292:==============> (8 + 1) / 9][Stage 2294:>               (0 + 0) / 1]\r"
     ]
    },
    {
     "name": "stdout",
     "output_type": "stream",
     "text": [
      "+-------+----------+---------------------------------------------------------------------------------+-------------------------+----------------+\n",
      "|user_id|product_id|product_name                                                                     |sub_category             |predicted_rating|\n",
      "+-------+----------+---------------------------------------------------------------------------------+-------------------------+----------------+\n",
      "|30     |131154    |[mẫu mới] Quần Jogger nam nữ thun da cá Hàn quốc                                 |Quần Dài/Quần Âu         |6.1228504       |\n",
      "|30     |16227     |Áo dài nam đón tết                                                               |Trang Phục Truyền Thống  |6.085448        |\n",
      "|30     |141293    |Quần jean nam co giãn BIGSIZE từ 75-90KG                                         |Quần Jeans               |6.075349        |\n",
      "|30     |23815     |Áo ĐI BIỂN HÓT HIT Ạ ( CÓ QUẦN ĐĂNG RIÊNG)                                       |Đồ Bộ                    |6.0740933       |\n",
      "|30     |15933     |Quần short thun nam nữ WIND unisex ống rộng, quần đùi lửng ngố thời trang mặc nhà|Quần Short               |6.073823        |\n",
      "|30     |121044    |MẮT KÍNH NAM CAO CẤP POSCHE P8000                                                |Kính Mắt Nam             |6.0623884       |\n",
      "|30     |20946     |Áo len nam cổ lọ dài tay hàn quốc dày đẹp cao cấp FAVITI AL59                    |Áo Hoodie, Áo Len & Áo Nỉ|6.0339637       |\n",
      "|30     |161045    |Áo thun nam nữ in hình cá mập , đồ thể thao nam nữ                               |Trang Phục Truyền Thống  |6.026082        |\n",
      "|30     |141200    |Quần Jean Nam Phong Cách Mới 21                                                  |Quần Jeans               |6.0169497       |\n",
      "|30     |24459     |Áo Spider Man nhện nhọ siêu ngầu giá siêu rẻ nhất vịnh bắc bộ                    |Đồ Hóa Trang             |6.012231        |\n",
      "+-------+----------+---------------------------------------------------------------------------------+-------------------------+----------------+\n",
      "\n"
     ]
    },
    {
     "name": "stderr",
     "output_type": "stream",
     "text": [
      "                                                                                \r"
     ]
    }
   ],
   "source": [
    "recs_with_names.filter(\"user_id = 30\") \\\n",
    "    .orderBy(\"predicted_rating\", ascending=False) \\\n",
    "    .select(\"user_id\", \"product_id\", \"product_name\",'sub_category', \"predicted_rating\") \\\n",
    "    .show(10, truncate=False)\n"
   ]
  },
  {
   "cell_type": "code",
   "execution_count": 29,
   "metadata": {},
   "outputs": [
    {
     "name": "stderr",
     "output_type": "stream",
     "text": [
      "[Stage 2430:==============> (8 + 1) / 9][Stage 2432:>               (0 + 0) / 1]\r"
     ]
    },
    {
     "name": "stdout",
     "output_type": "stream",
     "text": [
      "+-------+----------+-----------------------------------------------------------+-----------------------+----------------+\n",
      "|user_id|product_id|product_name                                               |sub_category           |predicted_rating|\n",
      "+-------+----------+-----------------------------------------------------------+-----------------------+----------------+\n",
      "|200    |191197    |Combo 2 áo ba lỗ nam RSC01 Cotton mỏng vừa thoáng mát      |Áo Ba Lỗ               |6.0611777       |\n",
      "|200    |19204     |[ ÁO TANKTOP ] Áo bo lỗ nam đẹp, Áo ba lỗ nam tập gym      |Áo Ba Lỗ               |5.8798018       |\n",
      "|200    |232526    |Áo thun cặp form rộng (ảnh thật)                           |Đồ Bộ                  |5.848368        |\n",
      "|200    |211616    |Áo phao nam siêu nhẹ 2 mặt !ảnh thật tự chụp từ 50 đến 80kg|Áo Khoác               |5.800338        |\n",
      "|200    |111606    |Đôi khuyên tai kiểu dáng tùy chọn cho nữ                   |Khác                   |5.753497        |\n",
      "|200    |111927    |Kẹp cà vạt màu bạc zo3                                     |Khác                   |5.738687        |\n",
      "|200    |19259     |[ ÁO TANKTOP ] Áo ba lỗ in 3d nam, Áo ba lỗ nam thái lan   |Áo Ba Lỗ               |5.7319136       |\n",
      "|200    |10522     |Cavat nam bản 6cm chú rể GiangPKC                          |Cà vạt & Nơ cổ         |5.7197423       |\n",
      "|200    |233256    |Vòng tay thể thao silicone in chữ thời trang cặp đôi       |Đồ Bộ                  |5.711024        |\n",
      "|200    |16492     |Quần áo Phông Adidda.s - Hàng chuẩn mua japan              |Trang Phục Truyền Thống|5.6625524       |\n",
      "+-------+----------+-----------------------------------------------------------+-----------------------+----------------+\n",
      "\n"
     ]
    },
    {
     "name": "stderr",
     "output_type": "stream",
     "text": [
      "                                                                                \r"
     ]
    }
   ],
   "source": [
    "recs_with_names.filter(\"user_id = 200\") \\\n",
    "    .orderBy(\"predicted_rating\", ascending=False) \\\n",
    "    .select(\"user_id\", \"product_id\", \"product_name\",'sub_category', \"predicted_rating\") \\\n",
    "    .show(10, truncate=False)\n"
   ]
  },
  {
   "cell_type": "code",
   "execution_count": null,
   "metadata": {},
   "outputs": [],
   "source": []
  }
 ],
 "metadata": {
  "kernelspec": {
   "display_name": "base",
   "language": "python",
   "name": "python3"
  },
  "language_info": {
   "codemirror_mode": {
    "name": "ipython",
    "version": 3
   },
   "file_extension": ".py",
   "mimetype": "text/x-python",
   "name": "python",
   "nbconvert_exporter": "python",
   "pygments_lexer": "ipython3",
   "version": "3.11.5"
  }
 },
 "nbformat": 4,
 "nbformat_minor": 2
}
